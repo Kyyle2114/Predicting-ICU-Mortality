{
 "cells": [
  {
   "cell_type": "code",
   "execution_count": 7,
   "metadata": {},
   "outputs": [],
   "source": [
    "import pandas as pd \n",
    "import numpy as np\n",
    "import os \n",
    "import random\n",
    "import gzip\n",
    "import gc\n",
    "from datetime import datetime\n",
    "import matplotlib.pyplot as plt\n",
    "import warnings\n",
    "warnings.filterwarnings('ignore')\n",
    "\n",
    "def seed_everything(seed = 21):\n",
    "    random.seed(seed)\n",
    "    np.random.seed(seed)\n",
    "    os.environ[\"PYTHONHASHSEED\"] = str(seed)\n",
    "    \n",
    "seed_everything()"
   ]
  },
  {
   "cell_type": "code",
   "execution_count": 8,
   "metadata": {},
   "outputs": [],
   "source": [
    "d_items_csv = gzip.open('./MIMIC-IV/icu/d_items.csv.gz')\n",
    "d_items = pd.read_csv(d_items_csv)\n",
    "\n",
    "del d_items_csv \n",
    "gc.collect()\n",
    "\n",
    "d_labitems_csv = gzip.open('./MIMIC-IV/hosp/d_labitems.csv.gz')\n",
    "d_labitems = pd.read_csv(d_labitems_csv)\n",
    "\n",
    "del d_labitems_csv \n",
    "gc.collect()\n",
    "\n",
    "d_labitems.label.fillna('Unknown_code', inplace=True)"
   ]
  },
  {
   "cell_type": "markdown",
   "metadata": {},
   "source": [
    "# ICU Patients"
   ]
  },
  {
   "cell_type": "code",
   "execution_count": 9,
   "metadata": {},
   "outputs": [
    {
     "data": {
      "text/plain": [
       "0"
      ]
     },
     "execution_count": 9,
     "metadata": {},
     "output_type": "execute_result"
    }
   ],
   "source": [
    "icu_stay_csv = gzip.open('./MIMIC-IV/icu/icustays.csv.gz')\n",
    "icu_stay = pd.read_csv(icu_stay_csv)\n",
    "\n",
    "del icu_stay_csv \n",
    "gc.collect()"
   ]
  },
  {
   "cell_type": "code",
   "execution_count": 10,
   "metadata": {},
   "outputs": [
    {
     "data": {
      "text/plain": [
       "0"
      ]
     },
     "execution_count": 10,
     "metadata": {},
     "output_type": "execute_result"
    }
   ],
   "source": [
    "# 동일 hadm_id 중복 제거 \n",
    "icu_stay = icu_stay.drop_duplicates(subset=['hadm_id'], keep='first')\n",
    "icu_stay[['subject_id', 'hadm_id', 'intime']].to_csv('icu_stay.csv')\n",
    "icu_stay = pd.read_csv('icu_stay.csv', index_col=0)\n",
    "\n",
    "admission = pd.read_csv('./MIMIC-IV/core/admissions.csv')\n",
    "admission = admission[['hadm_id', 'deathtime']]\n",
    "\n",
    "patients = pd.read_csv('./MIMIC-IV/core/patients.csv')\n",
    "patients = patients[['subject_id', 'gender', 'anchor_age']]\n",
    "\n",
    "icu_stay = pd.merge(icu_stay, patients, on='subject_id', how='left')\n",
    "icu_stay = pd.merge(icu_stay, admission, on='hadm_id', how='left')\n",
    "\n",
    "icu_stay['intime'] = pd.to_datetime(icu_stay['intime'])\n",
    "icu_stay['deathtime'] = pd.to_datetime(icu_stay['deathtime'])\n",
    "\n",
    "icu_stay['mortality'] = icu_stay['deathtime'] - icu_stay['intime']\n",
    "icu_stay['mortality_in_second'] = icu_stay.mortality.dt.total_seconds()\n",
    "\n",
    "# 입원 후 6시간 이내에 데이터를 기반으로 3일 내 죽을 확률 계산\n",
    "# mortality_in_second가 양수 혹은 null(사망하지 않음)인 데이터만 사용\n",
    "icu_stay = icu_stay[(icu_stay.mortality_in_second > 0) | (icu_stay.mortality_in_second.isnull())]\n",
    "icu_stay['mortality_in_3days'] = icu_stay['mortality_in_second'] < 86400 * 3\n",
    "icu_stay = icu_stay[['hadm_id', 'intime', 'gender', 'anchor_age', 'mortality_in_second', 'mortality_in_3days']]\n",
    "\n",
    "icu_stay.to_csv('icu_stay_with_3days.csv')\n",
    "del icu_stay, admission, patients\n",
    "gc.collect()"
   ]
  },
  {
   "cell_type": "markdown",
   "metadata": {},
   "source": [
    "# Outputevents"
   ]
  },
  {
   "cell_type": "code",
   "execution_count": 11,
   "metadata": {},
   "outputs": [],
   "source": [
    "data = pd.read_csv('./icu_stay_with_3days.csv', index_col=0)\n",
    "\n",
    "outputevents_csv = gzip.open('./MIMIC-IV/icu/outputevents.csv.gz')\n",
    "outputevents = pd.read_csv(outputevents_csv)\n",
    "\n",
    "del outputevents_csv \n",
    "gc.collect()\n",
    "\n",
    "outputevents = pd.merge(outputevents, data[['hadm_id', 'intime']], on='hadm_id', how='left')\n",
    "\n",
    "outputevents['intime'] = pd.to_datetime(outputevents['intime'])\n",
    "outputevents['storetime'] = pd.to_datetime(outputevents['storetime'])\n",
    "\n",
    "outputevents['time_to_store'] = outputevents['storetime'] - outputevents['intime']\n",
    "outputevents['time_to_store'] = outputevents['time_to_store'].dt.total_seconds()\n",
    "\n",
    "# 6시간 이내의 데이터\n",
    "outputevents['time_to_store_in_day'] = (outputevents['time_to_store'] < 86400 / 4) & (outputevents['time_to_store'] > 0)\n",
    "\n",
    "outputevents_in_6hour = outputevents[outputevents.time_to_store_in_day]\n",
    "outputevents_in_6hour = pd.merge(outputevents_in_6hour, d_items[['itemid', 'label']], on=['itemid'], how='left')\n",
    "\n",
    "# 6시간 내 value의 평균을 사용\n",
    "tmp = outputevents_in_6hour.groupby(['hadm_id', 'label'])['value'].mean()\n",
    "tmp = pd.DataFrame(tmp).reset_index()\n",
    "\n",
    "outputevents_in_6hour_pivot = tmp.pivot(index='hadm_id', columns='label', values='value')\n",
    "outputevents_in_6hour_pivot = outputevents_in_6hour_pivot.reset_index()\n",
    "outputevents_in_6hour_pivot.to_csv('outputevents_in_row_mean.csv')\n"
   ]
  },
  {
   "cell_type": "markdown",
   "metadata": {},
   "source": [
    "# Inputevents"
   ]
  },
  {
   "cell_type": "code",
   "execution_count": 12,
   "metadata": {},
   "outputs": [
    {
     "data": {
      "text/plain": [
       "0"
      ]
     },
     "execution_count": 12,
     "metadata": {},
     "output_type": "execute_result"
    }
   ],
   "source": [
    "inputevents_csv = gzip.open('./MIMIC-IV/icu/inputevents.csv.gz')\n",
    "inputevents = pd.read_csv(inputevents_csv)\n",
    "\n",
    "del inputevents_csv \n",
    "gc.collect()\n",
    "\n",
    "inputevents = pd.merge(inputevents, data[['hadm_id', 'intime']], on='hadm_id', how='left')\n",
    "\n",
    "inputevents['intime'] = pd.to_datetime(inputevents['intime'])\n",
    "inputevents['storetime'] = pd.to_datetime(inputevents['storetime'])\n",
    "\n",
    "inputevents['time_to_store'] = inputevents['storetime'] - inputevents['intime']\n",
    "inputevents['time_to_store'] = inputevents['time_to_store'].dt.total_seconds()\n",
    "\n",
    "# 6시간 이내의 데이터\n",
    "inputevents['time_to_store_in_day'] = (inputevents['time_to_store'] < 86400 / 4) & (inputevents['time_to_store'] > 0)\n",
    "inputevents_in_6hour = inputevents[inputevents.time_to_store_in_day]\n",
    "inputevents_in_6hour = pd.merge(inputevents_in_6hour, d_items[['itemid', 'label']], on=['itemid'], how='left')\n",
    "inputevents_in_6hour\n",
    "\n",
    "# 6시간 내 value의 평균을 사용\n",
    "tmp = inputevents_in_6hour.groupby(['hadm_id', 'label'])['amount'].mean()\n",
    "tmp = pd.DataFrame(tmp).reset_index()\n",
    "\n",
    "inputevents_in_6hour_pivot = tmp.pivot(index='hadm_id', columns='label', values='amount')\n",
    "inputevents_in_6hour_pivot = inputevents_in_6hour_pivot.reset_index()\n",
    "\n",
    "# weight : first -> last \n",
    "inputevents_in_6hour_pivot = pd.merge(inputevents_in_6hour_pivot,\n",
    "                                      inputevents_in_6hour[['hadm_id', 'patientweight']].drop_duplicates(subset='hadm_id', keep='last'),\n",
    "                                      on='hadm_id', how='left')\n",
    "\n",
    "inputevents_in_6hour_pivot.to_csv('inputevents_in_row_mean.csv')\n",
    "del inputevents, inputevents_in_6hour, tmp\n",
    "gc.collect()"
   ]
  },
  {
   "cell_type": "markdown",
   "metadata": {},
   "source": [
    "# Labevents"
   ]
  },
  {
   "cell_type": "code",
   "execution_count": 13,
   "metadata": {},
   "outputs": [
    {
     "data": {
      "text/plain": [
       "0"
      ]
     },
     "execution_count": 13,
     "metadata": {},
     "output_type": "execute_result"
    }
   ],
   "source": [
    "labevents_csv = gzip.open('./MIMIC-IV/hosp/labevents.csv.gz')\n",
    "\n",
    "result = pd.DataFrame()\n",
    "\n",
    "for cnt, df in enumerate(pd.read_csv(labevents_csv, chunksize=1e6)):\n",
    "    df = pd.merge(df, data[['hadm_id', 'intime']], on='hadm_id', how='left')\n",
    "    df['intime'] = pd.to_datetime(df['intime'])\n",
    "    df['storetime'] = pd.to_datetime(df['storetime'])\n",
    "\n",
    "    df['time_to_store'] = df['storetime'] - df['intime']\n",
    "    df['time_to_store'] = df['time_to_store'].dt.total_seconds()\n",
    "\n",
    "    # 6시간 이내의 데이터\n",
    "    df['time_to_store_in_day'] = (df['time_to_store'] < 86400 / 4) & (df['time_to_store'] > 0)\n",
    "    df = df[df.time_to_store_in_day]\n",
    "    df = pd.merge(df, d_labitems[['itemid', 'label']], on=['itemid'], how='left')\n",
    "    result = pd.concat([result, df])\n",
    "\n",
    "del labevents_csv \n",
    "gc.collect()\n",
    "\n",
    "result.hadm_id = result.hadm_id.astype('int64')\n",
    "result = result.groupby(['hadm_id', 'label'])['valuenum'].mean()\n",
    "result = pd.DataFrame(result).reset_index()\n",
    "result = result.pivot(index='hadm_id', columns='label', values='valuenum').reset_index()\n",
    "\n",
    "result.to_csv('labevents_in_row_mean.csv')\n",
    "del result\n",
    "gc.collect()"
   ]
  },
  {
   "cell_type": "markdown",
   "metadata": {},
   "source": [
    "# Chartevents"
   ]
  },
  {
   "cell_type": "code",
   "execution_count": 14,
   "metadata": {},
   "outputs": [
    {
     "data": {
      "text/plain": [
       "0"
      ]
     },
     "execution_count": 14,
     "metadata": {},
     "output_type": "execute_result"
    }
   ],
   "source": [
    "chartevent_csv = gzip.open('./MIMIC-IV/icu/chartevents.csv.gz')\n",
    "\n",
    "result = pd.DataFrame()\n",
    "\n",
    "cols = ['hadm_id', 'storetime', 'itemid', 'valuenum']\n",
    "\n",
    "for cnt, df in enumerate(pd.read_csv(chartevent_csv, chunksize=1e6, usecols=cols)):\n",
    "    df = pd.merge(df, data[['hadm_id', 'intime']], on='hadm_id', how='left')\n",
    "    df['intime'] = pd.to_datetime(df['intime'])\n",
    "    df['storetime'] = pd.to_datetime(df['storetime'])\n",
    "\n",
    "    df['time_to_store'] = df['storetime'] - df['intime']\n",
    "    df['time_to_store'] = df['time_to_store'].dt.total_seconds()\n",
    "\n",
    "    # 6시간 이내의 데이터\n",
    "    df['time_to_store_in_day'] = (df['time_to_store'] < 86400 / 4) & (df['time_to_store'] > 0)\n",
    "    df = df[df.time_to_store_in_day]\n",
    "    df = pd.merge(df, d_items[['itemid', 'label']], on=['itemid'], how='left')\n",
    "    result = pd.concat([result, df])\n",
    "\n",
    "del chartevent_csv \n",
    "gc.collect()\n",
    "\n",
    "result = result.groupby(['hadm_id', 'label'])['valuenum'].mean()\n",
    "result = pd.DataFrame(result).reset_index()\n",
    "result = result.pivot(index='hadm_id', columns='label', values='valuenum').reset_index()\n",
    "result.to_csv('chartevents_in_row_mean.csv')\n",
    "\n",
    "del result\n",
    "gc.collect()"
   ]
  }
 ],
 "metadata": {
  "kernelspec": {
   "display_name": "base",
   "language": "python",
   "name": "python3"
  },
  "language_info": {
   "codemirror_mode": {
    "name": "ipython",
    "version": 3
   },
   "file_extension": ".py",
   "mimetype": "text/x-python",
   "name": "python",
   "nbconvert_exporter": "python",
   "pygments_lexer": "ipython3",
   "version": "3.9.18"
  }
 },
 "nbformat": 4,
 "nbformat_minor": 2
}
