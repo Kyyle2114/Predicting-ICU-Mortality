{
 "cells": [
  {
   "cell_type": "markdown",
   "metadata": {},
   "source": [
    "# Setting"
   ]
  },
  {
   "cell_type": "code",
   "execution_count": 1,
   "metadata": {},
   "outputs": [],
   "source": [
    "import pandas as pd\n",
    "import numpy as np\n",
    "import matplotlib.pyplot as plt\n",
    "import seaborn as sns \n",
    "import os\n",
    "import random\n",
    "import scipy\n",
    "import gc\n",
    "import joblib\n",
    "import rtdl\n",
    "\n",
    "from tqdm import tqdm\n",
    "from typing import Any, Dict\n",
    "\n",
    "import torch\n",
    "import torch.nn as nn\n",
    "import torch.nn.functional as F\n",
    "import torch.optim as optim\n",
    "from torch.utils.data import DataLoader, Dataset\n",
    "\n",
    "from pytorch_tabnet.tab_model import TabNetClassifier\n",
    "from pytorch_tabnet.pretraining import TabNetPretrainer\n",
    "\n",
    "from sklearn.preprocessing import StandardScaler, QuantileTransformer\n",
    "from sklearn.model_selection import train_test_split\n",
    "from sklearn.metrics import accuracy_score, f1_score, precision_score, recall_score, confusion_matrix\n",
    "from sklearn.utils import resample, shuffle\n",
    "from sklearn.ensemble import RandomForestClassifier\n",
    "from sklearn.linear_model import LogisticRegression\n",
    "\n",
    "from xgboost import XGBClassifier\n",
    "from lightgbm import LGBMClassifier\n",
    "\n",
    "import warnings\n",
    "warnings.filterwarnings(action='ignore')"
   ]
  },
  {
   "cell_type": "code",
   "execution_count": 2,
   "metadata": {},
   "outputs": [],
   "source": [
    "def conf_matrix(y_true, y_pred):    \n",
    "    acc = accuracy_score(y_true, y_pred)\n",
    "    recall = recall_score(y_true, y_pred)\n",
    "    precision = precision_score(y_true, y_pred)\n",
    "    f1 = f1_score(y_true, y_pred)\n",
    "    \n",
    "    mat = confusion_matrix(y_true, y_pred)\n",
    "    labels = ['0(Non Risk)', '1(Risk)']\n",
    "    colors=['whitesmoke', 'steelblue']\n",
    "    sns.heatmap(mat, annot=True, cmap=colors, xticklabels=labels, yticklabels=labels, fmt=\"d\")\n",
    "    plt.ylabel('Actual')\n",
    "    plt.xlabel('Predicted')\n",
    "    plt.show()\n",
    "    \n",
    "    print('Accuracy:', acc)\n",
    "    print('Recall:', recall)\n",
    "    print('Precision:', precision)\n",
    "    print('F1:', f1)"
   ]
  },
  {
   "cell_type": "code",
   "execution_count": 3,
   "metadata": {},
   "outputs": [],
   "source": [
    "def seed_everything(seed = 21):\n",
    "    random.seed(seed)\n",
    "    np.random.seed(seed)\n",
    "    os.environ[\"PYTHONHASHSEED\"] = str(seed)\n",
    "    torch.manual_seed(seed)\n",
    "    torch.cuda.manual_seed(seed)\n",
    "    torch.backends.cudnn.deterministic = True\n",
    "    torch.backends.cudnn.benchmark = True\n",
    "    \n",
    "seed_everything()"
   ]
  },
  {
   "cell_type": "markdown",
   "metadata": {},
   "source": [
    "# Data Import"
   ]
  },
  {
   "cell_type": "code",
   "execution_count": 4,
   "metadata": {},
   "outputs": [
    {
     "name": "stdout",
     "output_type": "stream",
     "text": [
      "(69185, 2921)\n"
     ]
    },
    {
     "data": {
      "text/html": [
       "<div>\n",
       "<style scoped>\n",
       "    .dataframe tbody tr th:only-of-type {\n",
       "        vertical-align: middle;\n",
       "    }\n",
       "\n",
       "    .dataframe tbody tr th {\n",
       "        vertical-align: top;\n",
       "    }\n",
       "\n",
       "    .dataframe thead th {\n",
       "        text-align: right;\n",
       "    }\n",
       "</style>\n",
       "<table border=\"1\" class=\"dataframe\">\n",
       "  <thead>\n",
       "    <tr style=\"text-align: right;\">\n",
       "      <th></th>\n",
       "      <th>hadm_id</th>\n",
       "      <th>intime</th>\n",
       "      <th>gender</th>\n",
       "      <th>anchor_age</th>\n",
       "      <th>mortality_in_second</th>\n",
       "      <th>mortality_in_3days</th>\n",
       "      <th>Anderson (gastric)</th>\n",
       "      <th>Blakemore</th>\n",
       "      <th>Cath Lab</th>\n",
       "      <th>Cerebral Subdural #1</th>\n",
       "      <th>...</th>\n",
       "      <th>Vti High</th>\n",
       "      <th>WBC_y</th>\n",
       "      <th>WBCApacheIIValue</th>\n",
       "      <th>WBCScore_ApacheIV</th>\n",
       "      <th>WBC_ApacheIV</th>\n",
       "      <th>Warming Device</th>\n",
       "      <th>Warming Device Status</th>\n",
       "      <th>WbcApacheIIScore</th>\n",
       "      <th>Yawning</th>\n",
       "      <th>Yawning (COWS)</th>\n",
       "    </tr>\n",
       "  </thead>\n",
       "  <tbody>\n",
       "    <tr>\n",
       "      <th>0</th>\n",
       "      <td>24528534</td>\n",
       "      <td>2154-03-03 04:11:00</td>\n",
       "      <td>M</td>\n",
       "      <td>25</td>\n",
       "      <td>NaN</td>\n",
       "      <td>False</td>\n",
       "      <td>NaN</td>\n",
       "      <td>NaN</td>\n",
       "      <td>NaN</td>\n",
       "      <td>NaN</td>\n",
       "      <td>...</td>\n",
       "      <td>1.500000</td>\n",
       "      <td>NaN</td>\n",
       "      <td>NaN</td>\n",
       "      <td>NaN</td>\n",
       "      <td>NaN</td>\n",
       "      <td>NaN</td>\n",
       "      <td>NaN</td>\n",
       "      <td>NaN</td>\n",
       "      <td>NaN</td>\n",
       "      <td>NaN</td>\n",
       "    </tr>\n",
       "    <tr>\n",
       "      <th>1</th>\n",
       "      <td>28960964</td>\n",
       "      <td>2150-06-19 17:57:00</td>\n",
       "      <td>M</td>\n",
       "      <td>42</td>\n",
       "      <td>NaN</td>\n",
       "      <td>False</td>\n",
       "      <td>NaN</td>\n",
       "      <td>NaN</td>\n",
       "      <td>NaN</td>\n",
       "      <td>NaN</td>\n",
       "      <td>...</td>\n",
       "      <td>916.666667</td>\n",
       "      <td>13.5</td>\n",
       "      <td>NaN</td>\n",
       "      <td>NaN</td>\n",
       "      <td>NaN</td>\n",
       "      <td>NaN</td>\n",
       "      <td>NaN</td>\n",
       "      <td>NaN</td>\n",
       "      <td>NaN</td>\n",
       "      <td>NaN</td>\n",
       "    </tr>\n",
       "    <tr>\n",
       "      <th>2</th>\n",
       "      <td>27385897</td>\n",
       "      <td>2138-02-05 18:54:00</td>\n",
       "      <td>M</td>\n",
       "      <td>70</td>\n",
       "      <td>835560.0</td>\n",
       "      <td>False</td>\n",
       "      <td>NaN</td>\n",
       "      <td>NaN</td>\n",
       "      <td>NaN</td>\n",
       "      <td>NaN</td>\n",
       "      <td>...</td>\n",
       "      <td>900.000000</td>\n",
       "      <td>17.8</td>\n",
       "      <td>NaN</td>\n",
       "      <td>NaN</td>\n",
       "      <td>NaN</td>\n",
       "      <td>NaN</td>\n",
       "      <td>NaN</td>\n",
       "      <td>NaN</td>\n",
       "      <td>NaN</td>\n",
       "      <td>NaN</td>\n",
       "    </tr>\n",
       "    <tr>\n",
       "      <th>3</th>\n",
       "      <td>23483021</td>\n",
       "      <td>2123-10-25 10:35:00</td>\n",
       "      <td>M</td>\n",
       "      <td>87</td>\n",
       "      <td>NaN</td>\n",
       "      <td>False</td>\n",
       "      <td>NaN</td>\n",
       "      <td>NaN</td>\n",
       "      <td>NaN</td>\n",
       "      <td>NaN</td>\n",
       "      <td>...</td>\n",
       "      <td>NaN</td>\n",
       "      <td>NaN</td>\n",
       "      <td>NaN</td>\n",
       "      <td>NaN</td>\n",
       "      <td>NaN</td>\n",
       "      <td>NaN</td>\n",
       "      <td>NaN</td>\n",
       "      <td>NaN</td>\n",
       "      <td>NaN</td>\n",
       "      <td>NaN</td>\n",
       "    </tr>\n",
       "    <tr>\n",
       "      <th>4</th>\n",
       "      <td>20817525</td>\n",
       "      <td>2200-07-12 00:33:00</td>\n",
       "      <td>M</td>\n",
       "      <td>72</td>\n",
       "      <td>NaN</td>\n",
       "      <td>False</td>\n",
       "      <td>NaN</td>\n",
       "      <td>NaN</td>\n",
       "      <td>NaN</td>\n",
       "      <td>NaN</td>\n",
       "      <td>...</td>\n",
       "      <td>NaN</td>\n",
       "      <td>7.8</td>\n",
       "      <td>NaN</td>\n",
       "      <td>NaN</td>\n",
       "      <td>NaN</td>\n",
       "      <td>NaN</td>\n",
       "      <td>NaN</td>\n",
       "      <td>NaN</td>\n",
       "      <td>NaN</td>\n",
       "      <td>NaN</td>\n",
       "    </tr>\n",
       "  </tbody>\n",
       "</table>\n",
       "<p>5 rows × 2921 columns</p>\n",
       "</div>"
      ],
      "text/plain": [
       "    hadm_id               intime gender  anchor_age  mortality_in_second  \\\n",
       "0  24528534  2154-03-03 04:11:00      M          25                  NaN   \n",
       "1  28960964  2150-06-19 17:57:00      M          42                  NaN   \n",
       "2  27385897  2138-02-05 18:54:00      M          70             835560.0   \n",
       "3  23483021  2123-10-25 10:35:00      M          87                  NaN   \n",
       "4  20817525  2200-07-12 00:33:00      M          72                  NaN   \n",
       "\n",
       "   mortality_in_3days  Anderson (gastric)  Blakemore  Cath Lab  \\\n",
       "0               False                 NaN        NaN       NaN   \n",
       "1               False                 NaN        NaN       NaN   \n",
       "2               False                 NaN        NaN       NaN   \n",
       "3               False                 NaN        NaN       NaN   \n",
       "4               False                 NaN        NaN       NaN   \n",
       "\n",
       "   Cerebral Subdural #1  ...    Vti High  WBC_y  WBCApacheIIValue  \\\n",
       "0                   NaN  ...    1.500000    NaN               NaN   \n",
       "1                   NaN  ...  916.666667   13.5               NaN   \n",
       "2                   NaN  ...  900.000000   17.8               NaN   \n",
       "3                   NaN  ...         NaN    NaN               NaN   \n",
       "4                   NaN  ...         NaN    7.8               NaN   \n",
       "\n",
       "   WBCScore_ApacheIV  WBC_ApacheIV  Warming Device  Warming Device Status  \\\n",
       "0                NaN           NaN             NaN                    NaN   \n",
       "1                NaN           NaN             NaN                    NaN   \n",
       "2                NaN           NaN             NaN                    NaN   \n",
       "3                NaN           NaN             NaN                    NaN   \n",
       "4                NaN           NaN             NaN                    NaN   \n",
       "\n",
       "   WbcApacheIIScore  Yawning  Yawning (COWS)  \n",
       "0               NaN      NaN             NaN  \n",
       "1               NaN      NaN             NaN  \n",
       "2               NaN      NaN             NaN  \n",
       "3               NaN      NaN             NaN  \n",
       "4               NaN      NaN             NaN  \n",
       "\n",
       "[5 rows x 2921 columns]"
      ]
     },
     "execution_count": 4,
     "metadata": {},
     "output_type": "execute_result"
    }
   ],
   "source": [
    "data = pd.read_csv('./DA_data_mean.csv', index_col=0)\n",
    "print(data.shape)\n",
    "data.head()"
   ]
  },
  {
   "cell_type": "code",
   "execution_count": 5,
   "metadata": {},
   "outputs": [
    {
     "data": {
      "text/plain": [
       "0"
      ]
     },
     "execution_count": 5,
     "metadata": {},
     "output_type": "execute_result"
    }
   ],
   "source": [
    "data.gender = data.gender.replace({'M':1, 'F':0})\n",
    "y = data.mortality_in_3days.replace({True:1, False:0})\n",
    "\n",
    "X = data.drop(['hadm_id', 'intime', 'mortality_in_second', 'mortality_in_3days'], axis=1)\n",
    "X.fillna(0, inplace=True)\n",
    "\n",
    "del data\n",
    "gc.collect()"
   ]
  },
  {
   "cell_type": "code",
   "execution_count": 6,
   "metadata": {},
   "outputs": [
    {
     "data": {
      "text/plain": [
       "mortality_in_3days\n",
       "0    66120\n",
       "1     3065\n",
       "Name: count, dtype: int64"
      ]
     },
     "execution_count": 6,
     "metadata": {},
     "output_type": "execute_result"
    }
   ],
   "source": [
    "y.value_counts()"
   ]
  },
  {
   "cell_type": "code",
   "execution_count": 7,
   "metadata": {},
   "outputs": [
    {
     "data": {
      "text/html": [
       "<div>\n",
       "<style scoped>\n",
       "    .dataframe tbody tr th:only-of-type {\n",
       "        vertical-align: middle;\n",
       "    }\n",
       "\n",
       "    .dataframe tbody tr th {\n",
       "        vertical-align: top;\n",
       "    }\n",
       "\n",
       "    .dataframe thead th {\n",
       "        text-align: right;\n",
       "    }\n",
       "</style>\n",
       "<table border=\"1\" class=\"dataframe\">\n",
       "  <thead>\n",
       "    <tr style=\"text-align: right;\">\n",
       "      <th></th>\n",
       "      <th>column_name</th>\n",
       "      <th>shap_importance</th>\n",
       "    </tr>\n",
       "  </thead>\n",
       "  <tbody>\n",
       "    <tr>\n",
       "      <th>1</th>\n",
       "      <td>anchor_age</td>\n",
       "      <td>0.411092</td>\n",
       "    </tr>\n",
       "    <tr>\n",
       "      <th>1923</th>\n",
       "      <td>Lactic Acid</td>\n",
       "      <td>0.331595</td>\n",
       "    </tr>\n",
       "    <tr>\n",
       "      <th>2750</th>\n",
       "      <td>Temperature Fahrenheit</td>\n",
       "      <td>0.266724</td>\n",
       "    </tr>\n",
       "    <tr>\n",
       "      <th>2050</th>\n",
       "      <td>O2 saturation pulseoxymetry</td>\n",
       "      <td>0.264046</td>\n",
       "    </tr>\n",
       "    <tr>\n",
       "      <th>1095</th>\n",
       "      <td>Braden Mobility</td>\n",
       "      <td>0.227278</td>\n",
       "    </tr>\n",
       "    <tr>\n",
       "      <th>...</th>\n",
       "      <td>...</td>\n",
       "      <td>...</td>\n",
       "    </tr>\n",
       "    <tr>\n",
       "      <th>1155</th>\n",
       "      <td>CT #2 Crepitus</td>\n",
       "      <td>0.000000</td>\n",
       "    </tr>\n",
       "    <tr>\n",
       "      <th>1156</th>\n",
       "      <td>CT #2 Drainage</td>\n",
       "      <td>0.000000</td>\n",
       "    </tr>\n",
       "    <tr>\n",
       "      <th>1157</th>\n",
       "      <td>CT #2 Dressing</td>\n",
       "      <td>0.000000</td>\n",
       "    </tr>\n",
       "    <tr>\n",
       "      <th>1158</th>\n",
       "      <td>CT #2 Fluctuate</td>\n",
       "      <td>0.000000</td>\n",
       "    </tr>\n",
       "    <tr>\n",
       "      <th>2916</th>\n",
       "      <td>Yawning (COWS)</td>\n",
       "      <td>0.000000</td>\n",
       "    </tr>\n",
       "  </tbody>\n",
       "</table>\n",
       "<p>2917 rows × 2 columns</p>\n",
       "</div>"
      ],
      "text/plain": [
       "                      column_name  shap_importance\n",
       "1                      anchor_age         0.411092\n",
       "1923                  Lactic Acid         0.331595\n",
       "2750       Temperature Fahrenheit         0.266724\n",
       "2050  O2 saturation pulseoxymetry         0.264046\n",
       "1095              Braden Mobility         0.227278\n",
       "...                           ...              ...\n",
       "1155               CT #2 Crepitus         0.000000\n",
       "1156               CT #2 Drainage         0.000000\n",
       "1157               CT #2 Dressing         0.000000\n",
       "1158              CT #2 Fluctuate         0.000000\n",
       "2916               Yawning (COWS)         0.000000\n",
       "\n",
       "[2917 rows x 2 columns]"
      ]
     },
     "execution_count": 7,
     "metadata": {},
     "output_type": "execute_result"
    }
   ],
   "source": [
    "# SHAP(XGBoost) based feature importance \n",
    "shap_fi = pd.read_csv('./shap_fi_mean.csv', index_col=0)\n",
    "shap_fi"
   ]
  },
  {
   "cell_type": "code",
   "execution_count": 8,
   "metadata": {},
   "outputs": [
    {
     "data": {
      "text/plain": [
       "(514, 2)"
      ]
     },
     "execution_count": 8,
     "metadata": {},
     "output_type": "execute_result"
    }
   ],
   "source": [
    "shap_fi[shap_fi.shap_importance > 0].shape"
   ]
  },
  {
   "cell_type": "code",
   "execution_count": 9,
   "metadata": {},
   "outputs": [],
   "source": [
    "# non-zero Shapley value -> 514 features\n",
    "X = X[shap_fi.iloc[:514, :].column_name.values]\n",
    "\n",
    "X, y = shuffle(X, y, random_state=21)\n",
    "\n",
    "X_normal = X[y==0]\n",
    "X_abnormal = X[y==1]\n",
    "y_normal = y[y==0]\n",
    "y_abnormal = y[y==1]"
   ]
  },
  {
   "cell_type": "code",
   "execution_count": 10,
   "metadata": {},
   "outputs": [
    {
     "data": {
      "text/plain": [
       "((55800, 514), (6200, 514), (7185, 514), (62000, 514))"
      ]
     },
     "execution_count": 10,
     "metadata": {},
     "output_type": "execute_result"
    }
   ],
   "source": [
    "X_train_normal = X_normal.iloc[:60000, :]\n",
    "X_train_abnormal = X_abnormal.iloc[:2000, :]\n",
    "\n",
    "X_test_normal = X_normal.iloc[60000:, :]\n",
    "X_test_abnormal = X_abnormal.iloc[2000:, :]\n",
    "\n",
    "y_train_normal = y_normal[:60000]\n",
    "y_train_abnormal = y_abnormal[:2000]\n",
    "\n",
    "y_test_normal = y_normal[60000:]\n",
    "y_test_abnormal = y_abnormal[2000:]\n",
    "\n",
    "X_train_all = pd.concat([X_train_normal, X_train_abnormal])\n",
    "X_test = pd.concat([X_test_normal, X_test_abnormal])\n",
    "\n",
    "y_train_all = pd.concat([y_train_normal, y_train_abnormal])\n",
    "y_test = pd.concat([y_test_normal, y_test_abnormal])\n",
    "\n",
    "X_train, X_val, y_train, y_val = train_test_split(X_train_all, y_train_all, stratify=y_train_all, test_size=0.1, random_state=21)\n",
    "\n",
    "X_train.shape, X_val.shape, X_test.shape, X_train_all.shape "
   ]
  },
  {
   "cell_type": "code",
   "execution_count": 11,
   "metadata": {},
   "outputs": [
    {
     "data": {
      "text/plain": [
       "(mortality_in_3days\n",
       " 0    54000\n",
       " 1     1800\n",
       " Name: count, dtype: int64,\n",
       " mortality_in_3days\n",
       " 0    6000\n",
       " 1     200\n",
       " Name: count, dtype: int64,\n",
       " mortality_in_3days\n",
       " 0    6120\n",
       " 1    1065\n",
       " Name: count, dtype: int64,\n",
       " mortality_in_3days\n",
       " 0    60000\n",
       " 1     2000\n",
       " Name: count, dtype: int64)"
      ]
     },
     "execution_count": 11,
     "metadata": {},
     "output_type": "execute_result"
    }
   ],
   "source": [
    "y_train.value_counts(), y_val.value_counts(), y_test.value_counts(), y_train_all.value_counts()"
   ]
  },
  {
   "cell_type": "code",
   "execution_count": 12,
   "metadata": {},
   "outputs": [],
   "source": [
    "ss = StandardScaler()\n",
    "X_train.iloc[:, :] = ss.fit_transform(X_train)\n",
    "X_val.iloc[:, :] = ss.transform(X_val)\n",
    "X_test.iloc[:, :] = ss.transform(X_test)\n",
    "\n",
    "ss = StandardScaler()\n",
    "X_train_all.iloc[:, :] = ss.fit_transform(X_train_all)\n",
    "\n",
    "# X_train.to_csv('train.csv')\n",
    "# X_val.to_csv('val.csv')\n",
    "X_test.to_csv('test.csv')\n",
    "y_test.to_csv('y_test.csv')"
   ]
  },
  {
   "cell_type": "code",
   "execution_count": 13,
   "metadata": {},
   "outputs": [
    {
     "data": {
      "text/plain": [
       "(108000, 514)"
      ]
     },
     "execution_count": 13,
     "metadata": {},
     "output_type": "execute_result"
    }
   ],
   "source": [
    "# upsample -> abnormal(dies in 3 days) case \n",
    "X_train_normal = X_train[y_train==0]\n",
    "X_train_abnormal = X_train[y_train==1]\n",
    "\n",
    "y_train_normal = y_train[y_train==0]\n",
    "y_train_abnormal = y_train[y_train==1]\n",
    "    \n",
    "X_abnormal_res, y_abnormal_res = resample(X_train_abnormal, y_train_abnormal, replace=True, n_samples=X_train_normal.shape[0], random_state=21)\n",
    "X_train = pd.concat([X_train_normal, X_abnormal_res])\n",
    "y_train = pd.concat([y_train_normal, y_abnormal_res])\n",
    "    \n",
    "# shuffle \n",
    "X_res, y_res = shuffle(X_train, y_train, random_state=21)\n",
    "X_res.shape"
   ]
  },
  {
   "cell_type": "code",
   "execution_count": 14,
   "metadata": {},
   "outputs": [
    {
     "data": {
      "text/plain": [
       "(120000, 514)"
      ]
     },
     "execution_count": 14,
     "metadata": {},
     "output_type": "execute_result"
    }
   ],
   "source": [
    "# upsample -> abnormal(dies in 3 days) case \n",
    "X_train_normal = X_train_all[y_train_all==0]\n",
    "X_train_abnormal = X_train_all[y_train_all==1]\n",
    "\n",
    "y_train_normal = y_train_all[y_train_all==0]\n",
    "y_train_abnormal = y_train_all[y_train_all==1]\n",
    "    \n",
    "X_abnormal_res, y_abnormal_res = resample(X_train_abnormal, y_train_abnormal, replace=True, n_samples=X_train_normal.shape[0], random_state=21)\n",
    "X_train_all = pd.concat([X_train_normal, X_abnormal_res])\n",
    "y_train_all = pd.concat([y_train_normal, y_abnormal_res])\n",
    "    \n",
    "# shuffle \n",
    "X_res_all, y_res_all = shuffle(X_train_all, y_train_all, random_state=21)\n",
    "\n",
    "# X_res_all : no validation subset \n",
    "X_res_all.shape "
   ]
  },
  {
   "cell_type": "markdown",
   "metadata": {},
   "source": [
    "# TabNet\n",
    "\n",
    "Decide not to use TabNet ..."
   ]
  },
  {
   "cell_type": "code",
   "execution_count": 44,
   "metadata": {},
   "outputs": [],
   "source": [
    "sparse_X_train = scipy.sparse.csr_matrix(X_res)  \n",
    "sparse_X_valid = scipy.sparse.csr_matrix(X_val) "
   ]
  },
  {
   "cell_type": "code",
   "execution_count": 45,
   "metadata": {},
   "outputs": [
    {
     "name": "stdout",
     "output_type": "stream",
     "text": [
      "epoch 0  | loss: 9788582.16798| val_0_unsup_loss_numpy: 1508.30517578125|  0:00:25s\n",
      "epoch 5  | loss: 4085.23881| val_0_unsup_loss_numpy: 23.104700088500977|  0:02:08s\n",
      "epoch 10 | loss: 193.11348| val_0_unsup_loss_numpy: 2.970360040664673|  0:03:34s\n",
      "epoch 15 | loss: 70.86699| val_0_unsup_loss_numpy: 4.211780071258545|  0:04:59s\n",
      "epoch 20 | loss: 101.00015| val_0_unsup_loss_numpy: 1.0170199871063232|  0:06:25s\n",
      "epoch 25 | loss: 32.75263| val_0_unsup_loss_numpy: 1.0509999990463257|  0:07:55s\n",
      "epoch 30 | loss: 13.6784 | val_0_unsup_loss_numpy: 1.1903799772262573|  0:09:14s\n",
      "\n",
      "Early stopping occurred at epoch 32 with best_epoch = 22 and best_val_0_unsup_loss_numpy = 1.0152900218963623\n"
     ]
    }
   ],
   "source": [
    "# TabNetPretrainer\n",
    "unsupervised_model = TabNetPretrainer(optimizer_fn=torch.optim.Adam,\n",
    "                                      verbose=5,)\n",
    "\n",
    "unsupervised_model.fit(X_train=X_res.values,\n",
    "                       eval_set=[X_val.values],\n",
    "                       max_epochs=50,\n",
    "                       patience=10,\n",
    "                       batch_size=1024,\n",
    "                       virtual_batch_size=256,\n",
    "                       num_workers=0,\n",
    "                       drop_last=False,\n",
    "                       pretraining_ratio=0.5,)"
   ]
  },
  {
   "cell_type": "code",
   "execution_count": 46,
   "metadata": {},
   "outputs": [
    {
     "name": "stdout",
     "output_type": "stream",
     "text": [
      "epoch 0  | loss: 0.96655 | train_accuracy: 0.53551 | train_logloss: 0.70659 | val_accuracy: 0.18984 | val_logloss: 0.76577 |  0:00:41s\n",
      "epoch 1  | loss: 0.7065  | train_accuracy: 0.52465 | train_logloss: 0.6906  | val_accuracy: 0.17839 | val_logloss: 0.7756  |  0:01:21s\n",
      "epoch 2  | loss: 0.67875 | train_accuracy: 0.60585 | train_logloss: 0.67211 | val_accuracy: 0.37016 | val_logloss: 0.75845 |  0:02:02s\n",
      "epoch 3  | loss: 0.66018 | train_accuracy: 0.62605 | train_logloss: 0.65606 | val_accuracy: 0.41516 | val_logloss: 0.743   |  0:02:44s\n",
      "epoch 4  | loss: 0.64154 | train_accuracy: 0.6405  | train_logloss: 0.63722 | val_accuracy: 0.44935 | val_logloss: 0.71197 |  0:03:23s\n",
      "epoch 5  | loss: 0.61956 | train_accuracy: 0.65806 | train_logloss: 0.6192  | val_accuracy: 0.44355 | val_logloss: 0.72731 |  0:04:02s\n",
      "epoch 6  | loss: 0.59432 | train_accuracy: 0.68304 | train_logloss: 0.59419 | val_accuracy: 0.49226 | val_logloss: 0.66147 |  0:04:42s\n",
      "epoch 7  | loss: 0.56406 | train_accuracy: 0.71194 | train_logloss: 0.56393 | val_accuracy: 0.53532 | val_logloss: 0.61421 |  0:05:21s\n",
      "epoch 8  | loss: 0.49919 | train_accuracy: 0.76881 | train_logloss: 0.497   | val_accuracy: 0.65323 | val_logloss: 0.53256 |  0:06:00s\n",
      "epoch 9  | loss: 0.43585 | train_accuracy: 0.80605 | train_logloss: 0.44869 | val_accuracy: 0.70419 | val_logloss: 0.51663 |  0:06:40s\n",
      "epoch 10 | loss: 0.38801 | train_accuracy: 0.82265 | train_logloss: 0.41966 | val_accuracy: 0.71758 | val_logloss: 0.5406  |  0:07:19s\n",
      "epoch 11 | loss: 0.35457 | train_accuracy: 0.84845 | train_logloss: 0.37917 | val_accuracy: 0.80065 | val_logloss: 0.39493 |  0:08:00s\n",
      "epoch 12 | loss: 0.32877 | train_accuracy: 0.85081 | train_logloss: 0.36951 | val_accuracy: 0.77806 | val_logloss: 0.46224 |  0:08:41s\n",
      "epoch 13 | loss: 0.31051 | train_accuracy: 0.8618  | train_logloss: 0.34889 | val_accuracy: 0.78677 | val_logloss: 0.45088 |  0:09:22s\n",
      "epoch 14 | loss: 0.28882 | train_accuracy: 0.86414 | train_logloss: 0.34005 | val_accuracy: 0.77306 | val_logloss: 0.49411 |  0:10:04s\n",
      "epoch 15 | loss: 0.26948 | train_accuracy: 0.87101 | train_logloss: 0.32712 | val_accuracy: 0.77339 | val_logloss: 0.49129 |  0:10:47s\n",
      "epoch 16 | loss: 0.25491 | train_accuracy: 0.86626 | train_logloss: 0.334   | val_accuracy: 0.76694 | val_logloss: 0.51559 |  0:11:30s\n",
      "epoch 17 | loss: 0.24301 | train_accuracy: 0.89707 | train_logloss: 0.28589 | val_accuracy: 0.8429  | val_logloss: 0.37127 |  0:12:13s\n",
      "epoch 18 | loss: 0.23661 | train_accuracy: 0.89941 | train_logloss: 0.27429 | val_accuracy: 0.85    | val_logloss: 0.34663 |  0:12:57s\n",
      "epoch 19 | loss: 0.23369 | train_accuracy: 0.90193 | train_logloss: 0.27409 | val_accuracy: 0.85129 | val_logloss: 0.32942 |  0:13:40s\n",
      "epoch 20 | loss: 0.22016 | train_accuracy: 0.90707 | train_logloss: 0.26209 | val_accuracy: 0.84742 | val_logloss: 0.35647 |  0:14:24s\n",
      "epoch 21 | loss: 0.21237 | train_accuracy: 0.90697 | train_logloss: 0.25813 | val_accuracy: 0.84984 | val_logloss: 0.33453 |  0:15:08s\n",
      "epoch 22 | loss: 0.20689 | train_accuracy: 0.9112  | train_logloss: 0.25364 | val_accuracy: 0.85661 | val_logloss: 0.3342  |  0:15:51s\n",
      "epoch 23 | loss: 0.20408 | train_accuracy: 0.9185  | train_logloss: 0.22681 | val_accuracy: 0.85613 | val_logloss: 0.34205 |  0:16:33s\n",
      "epoch 24 | loss: 0.19612 | train_accuracy: 0.91071 | train_logloss: 0.24794 | val_accuracy: 0.83774 | val_logloss: 0.36224 |  0:17:16s\n",
      "epoch 25 | loss: 0.19387 | train_accuracy: 0.91168 | train_logloss: 0.24488 | val_accuracy: 0.86403 | val_logloss: 0.31025 |  0:17:58s\n",
      "epoch 26 | loss: 0.19009 | train_accuracy: 0.91733 | train_logloss: 0.22908 | val_accuracy: 0.85468 | val_logloss: 0.33539 |  0:18:43s\n",
      "epoch 27 | loss: 0.18323 | train_accuracy: 0.91365 | train_logloss: 0.23279 | val_accuracy: 0.84855 | val_logloss: 0.34741 |  0:19:31s\n",
      "epoch 28 | loss: 0.18264 | train_accuracy: 0.92167 | train_logloss: 0.22472 | val_accuracy: 0.85516 | val_logloss: 0.32132 |  0:20:16s\n",
      "epoch 29 | loss: 0.1815  | train_accuracy: 0.92211 | train_logloss: 0.22461 | val_accuracy: 0.88613 | val_logloss: 0.27482 |  0:20:58s\n",
      "epoch 30 | loss: 0.17751 | train_accuracy: 0.91708 | train_logloss: 0.22649 | val_accuracy: 0.84306 | val_logloss: 0.37879 |  0:21:39s\n",
      "epoch 31 | loss: 0.17319 | train_accuracy: 0.9133  | train_logloss: 0.2322  | val_accuracy: 0.91435 | val_logloss: 0.22938 |  0:22:20s\n",
      "epoch 32 | loss: 0.168   | train_accuracy: 0.91856 | train_logloss: 0.21989 | val_accuracy: 0.90274 | val_logloss: 0.25095 |  0:23:01s\n",
      "epoch 33 | loss: 0.16454 | train_accuracy: 0.92544 | train_logloss: 0.20993 | val_accuracy: 0.85645 | val_logloss: 0.33462 |  0:23:42s\n",
      "epoch 34 | loss: 0.16529 | train_accuracy: 0.9258  | train_logloss: 0.20876 | val_accuracy: 0.90597 | val_logloss: 0.2433  |  0:24:23s\n",
      "epoch 35 | loss: 0.16252 | train_accuracy: 0.9335  | train_logloss: 0.20075 | val_accuracy: 0.87613 | val_logloss: 0.30025 |  0:25:04s\n",
      "epoch 36 | loss: 0.16142 | train_accuracy: 0.93105 | train_logloss: 0.20034 | val_accuracy: 0.87565 | val_logloss: 0.30715 |  0:25:44s\n",
      "epoch 37 | loss: 0.15994 | train_accuracy: 0.93023 | train_logloss: 0.1948  | val_accuracy: 0.87435 | val_logloss: 0.3091  |  0:26:25s\n",
      "epoch 38 | loss: 0.15515 | train_accuracy: 0.90742 | train_logloss: 0.23847 | val_accuracy: 0.935   | val_logloss: 0.1804  |  0:27:06s\n",
      "epoch 39 | loss: 0.15236 | train_accuracy: 0.92474 | train_logloss: 0.20487 | val_accuracy: 0.90887 | val_logloss: 0.24007 |  0:27:47s\n",
      "epoch 40 | loss: 0.15221 | train_accuracy: 0.93976 | train_logloss: 0.1832  | val_accuracy: 0.90081 | val_logloss: 0.2646  |  0:28:27s\n",
      "epoch 41 | loss: 0.14834 | train_accuracy: 0.9364  | train_logloss: 0.18749 | val_accuracy: 0.87871 | val_logloss: 0.3107  |  0:29:09s\n",
      "epoch 42 | loss: 0.14658 | train_accuracy: 0.93794 | train_logloss: 0.18196 | val_accuracy: 0.90871 | val_logloss: 0.24522 |  0:29:51s\n",
      "epoch 43 | loss: 0.14472 | train_accuracy: 0.94306 | train_logloss: 0.1766  | val_accuracy: 0.90677 | val_logloss: 0.24513 |  0:30:33s\n",
      "epoch 44 | loss: 0.14418 | train_accuracy: 0.93253 | train_logloss: 0.19122 | val_accuracy: 0.91113 | val_logloss: 0.23816 |  0:31:14s\n",
      "epoch 45 | loss: 0.14194 | train_accuracy: 0.94456 | train_logloss: 0.16511 | val_accuracy: 0.8929  | val_logloss: 0.28496 |  0:31:55s\n",
      "epoch 46 | loss: 0.13827 | train_accuracy: 0.94569 | train_logloss: 0.17222 | val_accuracy: 0.90806 | val_logloss: 0.24365 |  0:32:36s\n",
      "epoch 47 | loss: 0.13979 | train_accuracy: 0.92193 | train_logloss: 0.21025 | val_accuracy: 0.92871 | val_logloss: 0.20186 |  0:33:19s\n",
      "epoch 48 | loss: 0.13706 | train_accuracy: 0.94062 | train_logloss: 0.17493 | val_accuracy: 0.92145 | val_logloss: 0.21856 |  0:34:03s\n",
      "epoch 49 | loss: 0.13636 | train_accuracy: 0.93593 | train_logloss: 0.18788 | val_accuracy: 0.87371 | val_logloss: 0.33992 |  0:34:46s\n",
      "epoch 50 | loss: 0.13528 | train_accuracy: 0.94063 | train_logloss: 0.17443 | val_accuracy: 0.90726 | val_logloss: 0.25476 |  0:35:28s\n",
      "epoch 51 | loss: 0.13399 | train_accuracy: 0.94884 | train_logloss: 0.15861 | val_accuracy: 0.90806 | val_logloss: 0.25298 |  0:36:11s\n",
      "epoch 52 | loss: 0.13203 | train_accuracy: 0.93683 | train_logloss: 0.18082 | val_accuracy: 0.92194 | val_logloss: 0.2157  |  0:36:53s\n",
      "epoch 53 | loss: 0.13119 | train_accuracy: 0.94206 | train_logloss: 0.16986 | val_accuracy: 0.87629 | val_logloss: 0.3133  |  0:37:36s\n",
      "epoch 54 | loss: 0.12988 | train_accuracy: 0.94656 | train_logloss: 0.15911 | val_accuracy: 0.8871  | val_logloss: 0.2932  |  0:38:19s\n",
      "epoch 55 | loss: 0.12933 | train_accuracy: 0.92819 | train_logloss: 0.20127 | val_accuracy: 0.9321  | val_logloss: 0.19579 |  0:39:03s\n",
      "epoch 56 | loss: 0.12789 | train_accuracy: 0.9464  | train_logloss: 0.16397 | val_accuracy: 0.90919 | val_logloss: 0.25077 |  0:39:53s\n",
      "epoch 57 | loss: 0.1283  | train_accuracy: 0.94204 | train_logloss: 0.17691 | val_accuracy: 0.91032 | val_logloss: 0.23997 |  0:40:42s\n",
      "epoch 58 | loss: 0.12878 | train_accuracy: 0.93494 | train_logloss: 0.194   | val_accuracy: 0.93306 | val_logloss: 0.1919  |  0:41:28s\n",
      "epoch 59 | loss: 0.12784 | train_accuracy: 0.94772 | train_logloss: 0.1658  | val_accuracy: 0.91952 | val_logloss: 0.2241  |  0:42:12s\n",
      "epoch 60 | loss: 0.12528 | train_accuracy: 0.94717 | train_logloss: 0.15996 | val_accuracy: 0.89613 | val_logloss: 0.2809  |  0:42:53s\n",
      "epoch 61 | loss: 0.12838 | train_accuracy: 0.94333 | train_logloss: 0.16951 | val_accuracy: 0.92371 | val_logloss: 0.21078 |  0:43:34s\n",
      "epoch 62 | loss: 0.12422 | train_accuracy: 0.94355 | train_logloss: 0.16829 | val_accuracy: 0.91177 | val_logloss: 0.24189 |  0:44:15s\n",
      "epoch 63 | loss: 0.12466 | train_accuracy: 0.94415 | train_logloss: 0.16372 | val_accuracy: 0.92516 | val_logloss: 0.21614 |  0:45:03s\n",
      "epoch 64 | loss: 0.12755 | train_accuracy: 0.95135 | train_logloss: 0.15902 | val_accuracy: 0.91935 | val_logloss: 0.22459 |  0:45:45s\n",
      "epoch 65 | loss: 0.1242  | train_accuracy: 0.95106 | train_logloss: 0.15085 | val_accuracy: 0.91726 | val_logloss: 0.22527 |  0:46:27s\n",
      "epoch 66 | loss: 0.12472 | train_accuracy: 0.95079 | train_logloss: 0.15684 | val_accuracy: 0.9071  | val_logloss: 0.24554 |  0:47:14s\n",
      "epoch 67 | loss: 0.1238  | train_accuracy: 0.95213 | train_logloss: 0.15355 | val_accuracy: 0.91306 | val_logloss: 0.23977 |  0:47:59s\n",
      "epoch 68 | loss: 0.12434 | train_accuracy: 0.95131 | train_logloss: 0.1566  | val_accuracy: 0.91419 | val_logloss: 0.23532 |  0:48:45s\n",
      "epoch 69 | loss: 0.12677 | train_accuracy: 0.9141  | train_logloss: 0.22953 | val_accuracy: 0.9471  | val_logloss: 0.15969 |  0:49:29s\n",
      "epoch 70 | loss: 0.12514 | train_accuracy: 0.95383 | train_logloss: 0.14815 | val_accuracy: 0.91726 | val_logloss: 0.23685 |  0:50:15s\n",
      "epoch 71 | loss: 0.12325 | train_accuracy: 0.95143 | train_logloss: 0.15049 | val_accuracy: 0.89065 | val_logloss: 0.30179 |  0:50:59s\n",
      "epoch 72 | loss: 0.12214 | train_accuracy: 0.9528  | train_logloss: 0.15256 | val_accuracy: 0.90984 | val_logloss: 0.23935 |  0:51:43s\n",
      "epoch 73 | loss: 0.12329 | train_accuracy: 0.94853 | train_logloss: 0.15255 | val_accuracy: 0.92355 | val_logloss: 0.22213 |  0:52:32s\n",
      "epoch 74 | loss: 0.12182 | train_accuracy: 0.9519  | train_logloss: 0.14816 | val_accuracy: 0.90952 | val_logloss: 0.24179 |  0:53:15s\n",
      "epoch 75 | loss: 0.12304 | train_accuracy: 0.93592 | train_logloss: 0.17932 | val_accuracy: 0.93597 | val_logloss: 0.18663 |  0:53:58s\n",
      "epoch 76 | loss: 0.12463 | train_accuracy: 0.94991 | train_logloss: 0.15682 | val_accuracy: 0.91565 | val_logloss: 0.22693 |  0:54:48s\n",
      "epoch 77 | loss: 0.12303 | train_accuracy: 0.95193 | train_logloss: 0.1564  | val_accuracy: 0.92145 | val_logloss: 0.22639 |  0:55:34s\n",
      "epoch 78 | loss: 0.12092 | train_accuracy: 0.94707 | train_logloss: 0.16674 | val_accuracy: 0.92226 | val_logloss: 0.22178 |  0:56:24s\n",
      "epoch 79 | loss: 0.12095 | train_accuracy: 0.95335 | train_logloss: 0.1552  | val_accuracy: 0.92677 | val_logloss: 0.20733 |  0:57:14s\n",
      "epoch 80 | loss: 0.12428 | train_accuracy: 0.94527 | train_logloss: 0.17106 | val_accuracy: 0.92645 | val_logloss: 0.20992 |  0:58:03s\n",
      "epoch 81 | loss: 0.12161 | train_accuracy: 0.95629 | train_logloss: 0.15026 | val_accuracy: 0.925   | val_logloss: 0.21509 |  0:58:51s\n",
      "epoch 82 | loss: 0.12239 | train_accuracy: 0.95277 | train_logloss: 0.1552  | val_accuracy: 0.92194 | val_logloss: 0.2257  |  0:59:40s\n",
      "epoch 83 | loss: 0.12171 | train_accuracy: 0.94429 | train_logloss: 0.17026 | val_accuracy: 0.92806 | val_logloss: 0.20807 |  1:00:33s\n",
      "epoch 84 | loss: 0.12256 | train_accuracy: 0.93586 | train_logloss: 0.18425 | val_accuracy: 0.93258 | val_logloss: 0.19662 |  1:01:21s\n",
      "epoch 85 | loss: 0.12442 | train_accuracy: 0.91624 | train_logloss: 0.22566 | val_accuracy: 0.93823 | val_logloss: 0.18646 |  1:02:07s\n",
      "epoch 86 | loss: 0.12339 | train_accuracy: 0.94948 | train_logloss: 0.16837 | val_accuracy: 0.92968 | val_logloss: 0.21221 |  1:02:54s\n",
      "epoch 87 | loss: 0.12336 | train_accuracy: 0.94131 | train_logloss: 0.16954 | val_accuracy: 0.93032 | val_logloss: 0.20444 |  1:03:42s\n",
      "epoch 88 | loss: 0.12095 | train_accuracy: 0.94705 | train_logloss: 0.16441 | val_accuracy: 0.93065 | val_logloss: 0.20717 |  1:04:33s\n",
      "epoch 89 | loss: 0.12477 | train_accuracy: 0.95387 | train_logloss: 0.15341 | val_accuracy: 0.91968 | val_logloss: 0.22407 |  1:05:20s\n",
      "epoch 90 | loss: 0.12501 | train_accuracy: 0.95059 | train_logloss: 0.1514  | val_accuracy: 0.9171  | val_logloss: 0.23016 |  1:06:08s\n",
      "epoch 91 | loss: 0.12597 | train_accuracy: 0.94442 | train_logloss: 0.17434 | val_accuracy: 0.93161 | val_logloss: 0.19334 |  1:06:54s\n",
      "epoch 92 | loss: 0.12312 | train_accuracy: 0.94127 | train_logloss: 0.1751  | val_accuracy: 0.93081 | val_logloss: 0.19479 |  1:07:40s\n",
      "epoch 93 | loss: 0.12303 | train_accuracy: 0.95218 | train_logloss: 0.15711 | val_accuracy: 0.91403 | val_logloss: 0.24097 |  1:08:26s\n",
      "epoch 94 | loss: 0.12411 | train_accuracy: 0.95404 | train_logloss: 0.14334 | val_accuracy: 0.92065 | val_logloss: 0.21768 |  1:09:13s\n",
      "epoch 95 | loss: 0.12388 | train_accuracy: 0.92271 | train_logloss: 0.21166 | val_accuracy: 0.94097 | val_logloss: 0.17655 |  1:09:59s\n",
      "epoch 96 | loss: 0.12563 | train_accuracy: 0.94892 | train_logloss: 0.15935 | val_accuracy: 0.90774 | val_logloss: 0.24987 |  1:10:45s\n",
      "epoch 97 | loss: 0.12492 | train_accuracy: 0.95831 | train_logloss: 0.14803 | val_accuracy: 0.91258 | val_logloss: 0.24289 |  1:11:31s\n",
      "epoch 98 | loss: 0.12417 | train_accuracy: 0.9444  | train_logloss: 0.17277 | val_accuracy: 0.91806 | val_logloss: 0.22469 |  1:12:15s\n",
      "epoch 99 | loss: 0.12683 | train_accuracy: 0.94812 | train_logloss: 0.15742 | val_accuracy: 0.92177 | val_logloss: 0.22299 |  1:12:59s\n",
      "epoch 100| loss: 0.12093 | train_accuracy: 0.94357 | train_logloss: 0.17659 | val_accuracy: 0.9121  | val_logloss: 0.24371 |  1:13:48s\n",
      "epoch 101| loss: 0.12387 | train_accuracy: 0.94688 | train_logloss: 0.16428 | val_accuracy: 0.92097 | val_logloss: 0.21949 |  1:14:34s\n",
      "epoch 102| loss: 0.12402 | train_accuracy: 0.9545  | train_logloss: 0.15125 | val_accuracy: 0.91468 | val_logloss: 0.23654 |  1:15:20s\n",
      "epoch 103| loss: 0.12478 | train_accuracy: 0.94153 | train_logloss: 0.17453 | val_accuracy: 0.93048 | val_logloss: 0.19286 |  1:16:06s\n",
      "epoch 104| loss: 0.12349 | train_accuracy: 0.94778 | train_logloss: 0.16169 | val_accuracy: 0.91871 | val_logloss: 0.22882 |  1:16:52s\n",
      "epoch 105| loss: 0.12526 | train_accuracy: 0.94288 | train_logloss: 0.16907 | val_accuracy: 0.92274 | val_logloss: 0.22203 |  1:17:37s\n",
      "epoch 106| loss: 0.12396 | train_accuracy: 0.9184  | train_logloss: 0.21719 | val_accuracy: 0.94484 | val_logloss: 0.16416 |  1:18:23s\n",
      "epoch 107| loss: 0.12768 | train_accuracy: 0.94078 | train_logloss: 0.17814 | val_accuracy: 0.90903 | val_logloss: 0.25323 |  1:19:09s\n",
      "epoch 108| loss: 0.12795 | train_accuracy: 0.95148 | train_logloss: 0.16423 | val_accuracy: 0.92177 | val_logloss: 0.21703 |  1:19:56s\n",
      "epoch 109| loss: 0.12975 | train_accuracy: 0.95062 | train_logloss: 0.16396 | val_accuracy: 0.9271  | val_logloss: 0.21065 |  1:20:48s\n",
      "epoch 110| loss: 0.13038 | train_accuracy: 0.95256 | train_logloss: 0.15323 | val_accuracy: 0.9121  | val_logloss: 0.23469 |  1:21:37s\n",
      "epoch 111| loss: 0.12886 | train_accuracy: 0.94441 | train_logloss: 0.17371 | val_accuracy: 0.92855 | val_logloss: 0.20769 |  1:22:28s\n",
      "epoch 112| loss: 0.13135 | train_accuracy: 0.94396 | train_logloss: 0.18264 | val_accuracy: 0.925   | val_logloss: 0.20743 |  1:23:14s\n",
      "epoch 113| loss: 0.13058 | train_accuracy: 0.93912 | train_logloss: 0.18623 | val_accuracy: 0.93565 | val_logloss: 0.18184 |  1:24:01s\n",
      "epoch 114| loss: 0.12997 | train_accuracy: 0.94433 | train_logloss: 0.17225 | val_accuracy: 0.91726 | val_logloss: 0.22613 |  1:24:48s\n",
      "epoch 115| loss: 0.128   | train_accuracy: 0.95358 | train_logloss: 0.15634 | val_accuracy: 0.91258 | val_logloss: 0.24325 |  1:25:34s\n",
      "epoch 116| loss: 0.13053 | train_accuracy: 0.94991 | train_logloss: 0.16656 | val_accuracy: 0.89048 | val_logloss: 0.29779 |  1:26:24s\n",
      "epoch 117| loss: 0.13096 | train_accuracy: 0.91354 | train_logloss: 0.22618 | val_accuracy: 0.94032 | val_logloss: 0.17654 |  1:27:12s\n",
      "epoch 118| loss: 0.1317  | train_accuracy: 0.9403  | train_logloss: 0.17976 | val_accuracy: 0.92194 | val_logloss: 0.22415 |  1:28:00s\n",
      "epoch 119| loss: 0.13308 | train_accuracy: 0.94316 | train_logloss: 0.18027 | val_accuracy: 0.92565 | val_logloss: 0.21217 |  1:28:47s\n",
      "\n",
      "Early stopping occurred at epoch 119 with best_epoch = 69 and best_val_logloss = 0.15969\n"
     ]
    }
   ],
   "source": [
    "tabnet_params = {\"optimizer_fn\": torch.optim.Adam,\n",
    "                 \"optimizer_params\": dict(lr=1e-3, weight_decay=1e-2),\n",
    "                 \"scheduler_fn\": torch.optim.lr_scheduler.StepLR,\n",
    "                 \"scheduler_params\":{\"step_size\":10, \"gamma\":0.99},\n",
    "                 \"mask_type\": 'sparsemax',\n",
    "                 \"device_name\": 'cpu',\n",
    "                 \"n_d\": 8,\n",
    "                 \"n_a\": 8,\n",
    "                 \"n_steps\": 3,\n",
    "                 \"gamma\": 1.3,\n",
    "                 \"seed\": 21}\n",
    "\n",
    "tabnet = TabNetClassifier(**tabnet_params)\n",
    "\n",
    "max_epochs = 150\n",
    "\n",
    "# Fitting the model\n",
    "tabnet.fit(X_train=sparse_X_train, y_train=y_res,\n",
    "           eval_set=[(sparse_X_train, y_res), (sparse_X_valid, y_val)],\n",
    "           eval_name=['train', 'val'],\n",
    "           eval_metric=['accuracy', 'logloss'],\n",
    "           max_epochs=max_epochs,\n",
    "           patience=50,\n",
    "           batch_size=1024,\n",
    "           virtual_batch_size=256,\n",
    "           from_unsupervised=unsupervised_model)"
   ]
  },
  {
   "cell_type": "code",
   "execution_count": 47,
   "metadata": {},
   "outputs": [
    {
     "data": {
      "image/png": "[encoded data removed]",
      "text/plain": [
       "<Figure size 640x480 with 1 Axes>"
      ]
     },
     "metadata": {},
     "output_type": "display_data"
    }
   ],
   "source": [
    "# plot loss\n",
    "plt.plot(tabnet.history['loss'], marker='o', label='train')\n",
    "plt.plot(tabnet.history['val_logloss'], marker='o', label='val')\n",
    "plt.title('Loss per epoch')\n",
    "plt.ylabel('Loss')\n",
    "plt.xlabel('Epoch')\n",
    "plt.show()"
   ]
  },
  {
   "cell_type": "code",
   "execution_count": 48,
   "metadata": {},
   "outputs": [
    {
     "data": {
      "image/png": "[encoded data removed]",
      "text/plain": [
       "<Figure size 640x480 with 1 Axes>"
      ]
     },
     "metadata": {},
     "output_type": "display_data"
    }
   ],
   "source": [
    "# plot accuracy\n",
    "plt.plot(tabnet.history['train_accuracy'], label='train', marker='o')\n",
    "plt.plot(tabnet.history['val_accuracy'], label='val', marker='o')\n",
    "plt.title('Accuracy per epoch')\n",
    "plt.ylabel('Accuracy')\n",
    "plt.xlabel('Epoch')\n",
    "plt.legend()\n",
    "plt.show()"
   ]
  },
  {
   "cell_type": "code",
   "execution_count": 49,
   "metadata": {},
   "outputs": [
    {
     "data": {
      "image/png": "[encoded data removed]",
      "text/plain": [
       "<Figure size 640x480 with 2 Axes>"
      ]
     },
     "metadata": {},
     "output_type": "display_data"
    },
    {
     "name": "stdout",
     "output_type": "stream",
     "text": [
      "Accuracy: 0.885455810716771\n",
      "Recall: 0.4384976525821596\n",
      "Precision: 0.6748554913294798\n",
      "F1: 0.5315879339783722\n"
     ]
    }
   ],
   "source": [
    "preds = tabnet.predict(X_test.values)\n",
    "\n",
    "conf_matrix(y_test, preds)"
   ]
  },
  {
   "cell_type": "code",
   "execution_count": 50,
   "metadata": {},
   "outputs": [
    {
     "name": "stdout",
     "output_type": "stream",
     "text": [
      "Successfully saved model at TabNet.zip\n"
     ]
    }
   ],
   "source": [
    "# save model\n",
    "saved_filepath = tabnet.save_model('TabNet')"
   ]
  },
  {
   "cell_type": "markdown",
   "metadata": {},
   "source": [
    "# XGBoost"
   ]
  },
  {
   "cell_type": "code",
   "execution_count": 15,
   "metadata": {},
   "outputs": [
    {
     "data": {
      "image/png": "[encoded data removed]",
      "text/plain": [
       "<Figure size 640x480 with 2 Axes>"
      ]
     },
     "metadata": {},
     "output_type": "display_data"
    },
    {
     "name": "stdout",
     "output_type": "stream",
     "text": [
      "Accuracy: 0.9042449547668754\n",
      "Recall: 0.45258215962441317\n",
      "Precision: 0.8211243611584327\n",
      "F1: 0.5835351089588378\n"
     ]
    }
   ],
   "source": [
    "xgb = XGBClassifier(seed=21)\n",
    "xgb.fit(X_res_all.values, y_res_all)\n",
    "\n",
    "preds = xgb.predict(X_test.values)\n",
    "conf_matrix(y_test, preds)"
   ]
  },
  {
   "cell_type": "code",
   "execution_count": 16,
   "metadata": {},
   "outputs": [
    {
     "data": {
      "text/plain": [
       "['XGBoost.pkl']"
      ]
     },
     "execution_count": 16,
     "metadata": {},
     "output_type": "execute_result"
    }
   ],
   "source": [
    "joblib.dump(xgb, 'XGBoost.pkl')"
   ]
  },
  {
   "cell_type": "markdown",
   "metadata": {},
   "source": [
    "# LightGBM"
   ]
  },
  {
   "cell_type": "code",
   "execution_count": 53,
   "metadata": {},
   "outputs": [
    {
     "name": "stdout",
     "output_type": "stream",
     "text": [
      "[LightGBM] [Info] Number of positive: 60000, number of negative: 60000\n",
      "[LightGBM] [Info] Auto-choosing col-wise multi-threading, the overhead of testing was 0.240980 seconds.\n",
      "You can set `force_col_wise=true` to remove the overhead.\n",
      "[LightGBM] [Info] Total Bins 59968\n",
      "[LightGBM] [Info] Number of data points in the train set: 120000, number of used features: 514\n",
      "[LightGBM] [Info] [binary:BoostFromScore]: pavg=0.500000 -> initscore=0.000000\n"
     ]
    },
    {
     "data": {
      "image/png": "[encoded data removed]",
      "text/plain": [
       "<Figure size 640x480 with 2 Axes>"
      ]
     },
     "metadata": {},
     "output_type": "display_data"
    },
    {
     "name": "stdout",
     "output_type": "stream",
     "text": [
      "Accuracy: 0.9020180932498261\n",
      "Recall: 0.6779342723004694\n",
      "Precision: 0.6666666666666666\n",
      "F1: 0.6722532588454375\n"
     ]
    }
   ],
   "source": [
    "lgbm = LGBMClassifier(seed=21)\n",
    "lgbm.fit(X_res_all.values, y_res_all)\n",
    "\n",
    "preds = lgbm.predict(X_test.values)\n",
    "conf_matrix(y_test, preds)"
   ]
  },
  {
   "cell_type": "code",
   "execution_count": 54,
   "metadata": {},
   "outputs": [
    {
     "data": {
      "text/plain": [
       "['LightGBM.pkl']"
      ]
     },
     "execution_count": 54,
     "metadata": {},
     "output_type": "execute_result"
    }
   ],
   "source": [
    "# save model\n",
    "joblib.dump(lgbm, 'LightGBM.pkl')"
   ]
  },
  {
   "cell_type": "markdown",
   "metadata": {},
   "source": [
    "# RandomForest"
   ]
  },
  {
   "cell_type": "code",
   "execution_count": 55,
   "metadata": {},
   "outputs": [
    {
     "data": {
      "image/png": "[encoded data removed]",
      "text/plain": [
       "<Figure size 640x480 with 2 Axes>"
      ]
     },
     "metadata": {},
     "output_type": "display_data"
    },
    {
     "name": "stdout",
     "output_type": "stream",
     "text": [
      "Accuracy: 0.8612386917188587\n",
      "Recall: 0.06572769953051644\n",
      "Precision: 0.9722222222222222\n",
      "F1: 0.12313104661389623\n"
     ]
    }
   ],
   "source": [
    "rf = RandomForestClassifier(n_estimators=300, random_state=21)\n",
    "rf.fit(X_res_all.values, y_res_all)\n",
    "\n",
    "preds = rf.predict(X_test.values)\n",
    "conf_matrix(y_test, preds)"
   ]
  },
  {
   "cell_type": "code",
   "execution_count": 56,
   "metadata": {},
   "outputs": [
    {
     "data": {
      "text/plain": [
       "['RandomForest.pkl']"
      ]
     },
     "execution_count": 56,
     "metadata": {},
     "output_type": "execute_result"
    }
   ],
   "source": [
    "# save model\n",
    "joblib.dump(rf, 'RandomForest.pkl')"
   ]
  },
  {
   "cell_type": "markdown",
   "metadata": {},
   "source": [
    "# Logistic Regression"
   ]
  },
  {
   "cell_type": "code",
   "execution_count": 57,
   "metadata": {},
   "outputs": [
    {
     "data": {
      "image/png": "[encoded data removed]",
      "text/plain": [
       "<Figure size 640x480 with 2 Axes>"
      ]
     },
     "metadata": {},
     "output_type": "display_data"
    },
    {
     "name": "stdout",
     "output_type": "stream",
     "text": [
      "Accuracy: 0.8453723034098817\n",
      "Recall: 0.7643192488262911\n",
      "Precision: 0.4862604540023895\n",
      "F1: 0.5943775100401606\n"
     ]
    }
   ],
   "source": [
    "lr = LogisticRegression(C=0.01, random_state=21)\n",
    "lr.fit(X_res_all.values, y_res_all)\n",
    "\n",
    "preds = lr.predict(X_test.values)\n",
    "conf_matrix(y_test, preds)"
   ]
  },
  {
   "cell_type": "code",
   "execution_count": 58,
   "metadata": {},
   "outputs": [
    {
     "data": {
      "text/plain": [
       "['LogisticRegression.pkl']"
      ]
     },
     "execution_count": 58,
     "metadata": {},
     "output_type": "execute_result"
    }
   ],
   "source": [
    "# save model\n",
    "joblib.dump(lr, 'LogisticRegression.pkl')"
   ]
  },
  {
   "cell_type": "markdown",
   "metadata": {},
   "source": [
    "# ResNet"
   ]
  },
  {
   "cell_type": "code",
   "execution_count": 59,
   "metadata": {},
   "outputs": [],
   "source": [
    "def model_train(model, data_loader, criterion, optimizer, device, history, scheduler=None):\n",
    "    model.train()\n",
    "    running_loss = 0\n",
    "    corr = 0\n",
    "\n",
    "    # for rtdl\n",
    "    for data, label in tqdm(data_loader):\n",
    "        optimizer.zero_grad()\n",
    "\n",
    "        data, label = data.to(device), label.to(device)\n",
    "        output = model(data)\n",
    "        output = torch.sigmoid(output)\n",
    "        loss = criterion(output, label)\n",
    "        loss.backward()\n",
    "        optimizer.step()\n",
    "\n",
    "        pred = output >= torch.FloatTensor([0.5]).to(device)\n",
    "        corr += pred.eq(label).sum().item()\n",
    "        running_loss += loss.item() * data.size(0)\n",
    "\n",
    "    if scheduler:\n",
    "        scheduler.step()\n",
    "\n",
    "    # Average accuracy & loss\n",
    "    accuracy = corr / len(data_loader.dataset)\n",
    "    loss = running_loss / len(data_loader.dataset)\n",
    "    history['train_loss'].append(loss)\n",
    "    history['train_accuracy'].append(accuracy)\n",
    "\n",
    "    return loss, accuracy, history\n",
    "\n",
    "def model_evaluate(model, data_loader, criterion, device, history):\n",
    "    model.eval()\n",
    "    with torch.no_grad():\n",
    "        running_loss = 0\n",
    "        corr = 0\n",
    "\n",
    "        for data, label in data_loader:\n",
    "            data, label = data.to(device), label.to(device)\n",
    "            output = model(data)\n",
    "            output = torch.sigmoid(output)\n",
    "\n",
    "            pred = output >= torch.FloatTensor([0.5]).to(device)\n",
    "            corr += pred.eq(label).sum().item()\n",
    "            running_loss += criterion(output, label).item() * data.size(0)\n",
    "\n",
    "        accuracy = corr / len(data_loader.dataset)\n",
    "        loss = running_loss / len(data_loader.dataset)\n",
    "        history['val_loss'].append(loss)\n",
    "        history['val_accuracy'].append(accuracy)\n",
    "\n",
    "        return loss, accuracy, history\n",
    "    \n",
    "def plot_loss(history):\n",
    "    plt.plot(history['train_loss'], label='train', marker='o')\n",
    "    plt.plot(history['val_loss'], label='val', marker='o')\n",
    "    plt.title('Loss per epoch')\n",
    "    plt.ylabel('Loss')\n",
    "    plt.xlabel('Epoch')\n",
    "    plt.legend()\n",
    "    plt.grid()\n",
    "\n",
    "def plot_acc(history):\n",
    "    plt.plot(history['train_accuracy'], label='train', marker='o')\n",
    "    plt.plot(history['val_accuracy'], label='val',  marker='o')\n",
    "    plt.title('Accuracy per epoch')\n",
    "    plt.ylabel('Accuracy')\n",
    "    plt.xlabel('Epoch')\n",
    "    plt.legend()\n",
    "    plt.grid()"
   ]
  },
  {
   "cell_type": "code",
   "execution_count": 60,
   "metadata": {},
   "outputs": [],
   "source": [
    "resnet = rtdl.ResNet.make_baseline(d_in=X_res.shape[1],\n",
    "                                   d_main=256,\n",
    "                                   d_hidden=128,\n",
    "                                   dropout_first=0.3,\n",
    "                                   dropout_second=0.3,\n",
    "                                   n_blocks=2,\n",
    "                                   d_out=1)"
   ]
  },
  {
   "cell_type": "code",
   "execution_count": 61,
   "metadata": {},
   "outputs": [],
   "source": [
    "class TensorData(Dataset):\n",
    "    def __init__(self, data, label):\n",
    "        self.data = data \n",
    "        self.label = label\n",
    "        self.len = self.label.shape[0]\n",
    "\n",
    "    def __getitem__(self, index):\n",
    "        return self.data[index], self.label[index]\n",
    "\n",
    "    def __len__(self):\n",
    "        return self.len"
   ]
  },
  {
   "cell_type": "code",
   "execution_count": 62,
   "metadata": {},
   "outputs": [],
   "source": [
    "train_dataset = TensorData(torch.tensor(X_res.values, dtype=torch.float), torch.tensor(y_res.values.reshape(-1, 1), dtype=torch.float))\n",
    "val_dataset = TensorData(torch.tensor(X_val.values, dtype=torch.float), torch.tensor(y_val.values.reshape(-1, 1), dtype=torch.float))\n",
    "test_dataset = TensorData(torch.tensor(X_test.values, dtype=torch.float), torch.tensor(y_test.values.reshape(-1, 1), dtype=torch.float))\n",
    "\n",
    "train_loader = DataLoader(train_dataset, batch_size=1024, shuffle=True)\n",
    "val_loader = DataLoader(val_dataset, batch_size=1024, shuffle=True)\n",
    "test_loader = DataLoader(test_dataset, batch_size=1024, shuffle=True)"
   ]
  },
  {
   "cell_type": "code",
   "execution_count": 63,
   "metadata": {},
   "outputs": [
    {
     "name": "stderr",
     "output_type": "stream",
     "text": [
      "100%|██████████| 106/106 [00:03<00:00, 30.76it/s]\n"
     ]
    },
    {
     "name": "stdout",
     "output_type": "stream",
     "text": [
      "[INFO] val_loss has been improved from inf to 0.21579. Save model.\n",
      "epoch 01, loss: 0.30881, accuracy: 0.87044, val_loss: 0.21579, val_accuracy: 0.91677 \n",
      "\n"
     ]
    },
    {
     "name": "stderr",
     "output_type": "stream",
     "text": [
      "100%|██████████| 106/106 [00:03<00:00, 31.41it/s]\n"
     ]
    },
    {
     "name": "stdout",
     "output_type": "stream",
     "text": [
      "[INFO] val_loss has been improved from 0.21579 to 0.19443. Save model.\n",
      "epoch 02, loss: 0.15882, accuracy: 0.95169, val_loss: 0.19443, val_accuracy: 0.93097 \n",
      "\n"
     ]
    },
    {
     "name": "stderr",
     "output_type": "stream",
     "text": [
      "100%|██████████| 106/106 [00:03<00:00, 33.24it/s]\n"
     ]
    },
    {
     "name": "stdout",
     "output_type": "stream",
     "text": [
      "epoch 03, loss: 0.12228, accuracy: 0.96681, val_loss: 0.21071, val_accuracy: 0.92419 \n",
      "\n"
     ]
    },
    {
     "name": "stderr",
     "output_type": "stream",
     "text": [
      "100%|██████████| 106/106 [00:03<00:00, 30.84it/s]\n"
     ]
    },
    {
     "name": "stdout",
     "output_type": "stream",
     "text": [
      "[INFO] val_loss has been improved from 0.19443 to 0.19081. Save model.\n",
      "epoch 04, loss: 0.11067, accuracy: 0.97220, val_loss: 0.19081, val_accuracy: 0.93452 \n",
      "\n"
     ]
    },
    {
     "name": "stderr",
     "output_type": "stream",
     "text": [
      "100%|██████████| 106/106 [00:03<00:00, 30.36it/s]\n"
     ]
    },
    {
     "name": "stdout",
     "output_type": "stream",
     "text": [
      "[INFO] val_loss has been improved from 0.19081 to 0.17612. Save model.\n",
      "epoch 05, loss: 0.10623, accuracy: 0.97490, val_loss: 0.17612, val_accuracy: 0.94113 \n",
      "\n"
     ]
    },
    {
     "name": "stderr",
     "output_type": "stream",
     "text": [
      "100%|██████████| 106/106 [00:03<00:00, 32.70it/s]\n"
     ]
    },
    {
     "name": "stdout",
     "output_type": "stream",
     "text": [
      "epoch 06, loss: 0.11051, accuracy: 0.97316, val_loss: 0.17697, val_accuracy: 0.94145 \n",
      "\n"
     ]
    },
    {
     "name": "stderr",
     "output_type": "stream",
     "text": [
      "100%|██████████| 106/106 [00:03<00:00, 31.04it/s]\n"
     ]
    },
    {
     "name": "stdout",
     "output_type": "stream",
     "text": [
      "epoch 07, loss: 0.11206, accuracy: 0.97271, val_loss: 0.20147, val_accuracy: 0.92726 \n",
      "\n"
     ]
    },
    {
     "name": "stderr",
     "output_type": "stream",
     "text": [
      "100%|██████████| 106/106 [00:03<00:00, 32.49it/s]\n"
     ]
    },
    {
     "name": "stdout",
     "output_type": "stream",
     "text": [
      "epoch 08, loss: 0.12218, accuracy: 0.96876, val_loss: 0.18983, val_accuracy: 0.92887 \n",
      "\n"
     ]
    },
    {
     "name": "stderr",
     "output_type": "stream",
     "text": [
      "100%|██████████| 106/106 [00:03<00:00, 31.90it/s]\n"
     ]
    },
    {
     "name": "stdout",
     "output_type": "stream",
     "text": [
      "epoch 09, loss: 0.12604, accuracy: 0.96721, val_loss: 0.19851, val_accuracy: 0.92806 \n",
      "\n"
     ]
    },
    {
     "name": "stderr",
     "output_type": "stream",
     "text": [
      "100%|██████████| 106/106 [00:03<00:00, 31.76it/s]\n"
     ]
    },
    {
     "name": "stdout",
     "output_type": "stream",
     "text": [
      "epoch 10, loss: 0.13467, accuracy: 0.96453, val_loss: 0.20213, val_accuracy: 0.92629 \n",
      "\n"
     ]
    },
    {
     "name": "stderr",
     "output_type": "stream",
     "text": [
      "100%|██████████| 106/106 [00:03<00:00, 32.09it/s]\n"
     ]
    },
    {
     "name": "stdout",
     "output_type": "stream",
     "text": [
      "epoch 11, loss: 0.14231, accuracy: 0.96096, val_loss: 0.19767, val_accuracy: 0.92968 \n",
      "\n"
     ]
    },
    {
     "name": "stderr",
     "output_type": "stream",
     "text": [
      "100%|██████████| 106/106 [00:03<00:00, 32.41it/s]\n"
     ]
    },
    {
     "name": "stdout",
     "output_type": "stream",
     "text": [
      "epoch 12, loss: 0.14826, accuracy: 0.95748, val_loss: 0.21684, val_accuracy: 0.91855 \n",
      "\n"
     ]
    },
    {
     "name": "stderr",
     "output_type": "stream",
     "text": [
      "100%|██████████| 106/106 [00:03<00:00, 30.31it/s]\n"
     ]
    },
    {
     "name": "stdout",
     "output_type": "stream",
     "text": [
      "epoch 13, loss: 0.15442, accuracy: 0.95384, val_loss: 0.20595, val_accuracy: 0.92726 \n",
      "\n"
     ]
    },
    {
     "name": "stderr",
     "output_type": "stream",
     "text": [
      "100%|██████████| 106/106 [00:03<00:00, 31.28it/s]\n"
     ]
    },
    {
     "name": "stdout",
     "output_type": "stream",
     "text": [
      "epoch 14, loss: 0.16075, accuracy: 0.95189, val_loss: 0.22289, val_accuracy: 0.91242 \n",
      "\n"
     ]
    },
    {
     "name": "stderr",
     "output_type": "stream",
     "text": [
      "100%|██████████| 106/106 [00:03<00:00, 31.72it/s]\n"
     ]
    },
    {
     "name": "stdout",
     "output_type": "stream",
     "text": [
      "epoch 15, loss: 0.16426, accuracy: 0.95106, val_loss: 0.20797, val_accuracy: 0.92516 \n",
      "\n"
     ]
    },
    {
     "name": "stderr",
     "output_type": "stream",
     "text": [
      "100%|██████████| 106/106 [00:03<00:00, 32.25it/s]\n"
     ]
    },
    {
     "name": "stdout",
     "output_type": "stream",
     "text": [
      "epoch 16, loss: 0.16418, accuracy: 0.94984, val_loss: 0.21052, val_accuracy: 0.92129 \n",
      "\n"
     ]
    },
    {
     "name": "stderr",
     "output_type": "stream",
     "text": [
      "100%|██████████| 106/106 [00:03<00:00, 30.44it/s]\n"
     ]
    },
    {
     "name": "stdout",
     "output_type": "stream",
     "text": [
      "epoch 17, loss: 0.16693, accuracy: 0.94831, val_loss: 0.22775, val_accuracy: 0.91226 \n",
      "\n"
     ]
    },
    {
     "name": "stderr",
     "output_type": "stream",
     "text": [
      "100%|██████████| 106/106 [00:03<00:00, 31.59it/s]\n"
     ]
    },
    {
     "name": "stdout",
     "output_type": "stream",
     "text": [
      "epoch 18, loss: 0.16947, accuracy: 0.94713, val_loss: 0.21533, val_accuracy: 0.92210 \n",
      "\n"
     ]
    },
    {
     "name": "stderr",
     "output_type": "stream",
     "text": [
      "100%|██████████| 106/106 [00:03<00:00, 30.34it/s]\n"
     ]
    },
    {
     "name": "stdout",
     "output_type": "stream",
     "text": [
      "epoch 19, loss: 0.16355, accuracy: 0.94901, val_loss: 0.22760, val_accuracy: 0.91242 \n",
      "\n"
     ]
    },
    {
     "name": "stderr",
     "output_type": "stream",
     "text": [
      "100%|██████████| 106/106 [00:03<00:00, 31.38it/s]\n"
     ]
    },
    {
     "name": "stdout",
     "output_type": "stream",
     "text": [
      "epoch 20, loss: 0.16393, accuracy: 0.94888, val_loss: 0.20514, val_accuracy: 0.92048 \n",
      "\n"
     ]
    },
    {
     "name": "stderr",
     "output_type": "stream",
     "text": [
      "100%|██████████| 106/106 [00:03<00:00, 32.48it/s]\n"
     ]
    },
    {
     "name": "stdout",
     "output_type": "stream",
     "text": [
      "epoch 21, loss: 0.16420, accuracy: 0.94834, val_loss: 0.20575, val_accuracy: 0.92323 \n",
      "\n"
     ]
    },
    {
     "name": "stderr",
     "output_type": "stream",
     "text": [
      "100%|██████████| 106/106 [00:03<00:00, 31.47it/s]\n"
     ]
    },
    {
     "name": "stdout",
     "output_type": "stream",
     "text": [
      "epoch 22, loss: 0.16196, accuracy: 0.94865, val_loss: 0.21170, val_accuracy: 0.92129 \n",
      "\n"
     ]
    },
    {
     "name": "stderr",
     "output_type": "stream",
     "text": [
      "100%|██████████| 106/106 [00:03<00:00, 32.39it/s]\n"
     ]
    },
    {
     "name": "stdout",
     "output_type": "stream",
     "text": [
      "epoch 23, loss: 0.15950, accuracy: 0.94908, val_loss: 0.22779, val_accuracy: 0.91581 \n",
      "\n"
     ]
    },
    {
     "name": "stderr",
     "output_type": "stream",
     "text": [
      "100%|██████████| 106/106 [00:03<00:00, 32.03it/s]\n"
     ]
    },
    {
     "name": "stdout",
     "output_type": "stream",
     "text": [
      "epoch 24, loss: 0.15687, accuracy: 0.95035, val_loss: 0.19747, val_accuracy: 0.92565 \n",
      "\n"
     ]
    },
    {
     "name": "stderr",
     "output_type": "stream",
     "text": [
      "100%|██████████| 106/106 [00:03<00:00, 32.30it/s]\n"
     ]
    },
    {
     "name": "stdout",
     "output_type": "stream",
     "text": [
      "epoch 25, loss: 0.15420, accuracy: 0.95118, val_loss: 0.21179, val_accuracy: 0.91903 \n",
      "\n"
     ]
    },
    {
     "name": "stderr",
     "output_type": "stream",
     "text": [
      "100%|██████████| 106/106 [00:03<00:00, 31.60it/s]\n"
     ]
    },
    {
     "name": "stdout",
     "output_type": "stream",
     "text": [
      "epoch 26, loss: 0.15526, accuracy: 0.95047, val_loss: 0.19444, val_accuracy: 0.92984 \n",
      "\n"
     ]
    },
    {
     "name": "stderr",
     "output_type": "stream",
     "text": [
      "100%|██████████| 106/106 [00:03<00:00, 33.16it/s]\n"
     ]
    },
    {
     "name": "stdout",
     "output_type": "stream",
     "text": [
      "epoch 27, loss: 0.15105, accuracy: 0.95185, val_loss: 0.19802, val_accuracy: 0.92984 \n",
      "\n"
     ]
    },
    {
     "name": "stderr",
     "output_type": "stream",
     "text": [
      "100%|██████████| 106/106 [00:03<00:00, 31.58it/s]\n"
     ]
    },
    {
     "name": "stdout",
     "output_type": "stream",
     "text": [
      "epoch 28, loss: 0.15014, accuracy: 0.95249, val_loss: 0.21227, val_accuracy: 0.92129 \n",
      "\n"
     ]
    },
    {
     "name": "stderr",
     "output_type": "stream",
     "text": [
      "100%|██████████| 106/106 [00:03<00:00, 33.02it/s]\n"
     ]
    },
    {
     "name": "stdout",
     "output_type": "stream",
     "text": [
      "epoch 29, loss: 0.14564, accuracy: 0.95433, val_loss: 0.19939, val_accuracy: 0.92839 \n",
      "\n"
     ]
    },
    {
     "name": "stderr",
     "output_type": "stream",
     "text": [
      "100%|██████████| 106/106 [00:03<00:00, 32.21it/s]\n"
     ]
    },
    {
     "name": "stdout",
     "output_type": "stream",
     "text": [
      "epoch 30, loss: 0.14502, accuracy: 0.95408, val_loss: 0.21443, val_accuracy: 0.92194 \n",
      "\n"
     ]
    },
    {
     "name": "stderr",
     "output_type": "stream",
     "text": [
      "100%|██████████| 106/106 [00:03<00:00, 31.20it/s]\n"
     ]
    },
    {
     "name": "stdout",
     "output_type": "stream",
     "text": [
      "epoch 31, loss: 0.14323, accuracy: 0.95485, val_loss: 0.20336, val_accuracy: 0.92984 \n",
      "\n"
     ]
    },
    {
     "name": "stderr",
     "output_type": "stream",
     "text": [
      "100%|██████████| 106/106 [00:03<00:00, 32.75it/s]\n"
     ]
    },
    {
     "name": "stdout",
     "output_type": "stream",
     "text": [
      "epoch 32, loss: 0.13992, accuracy: 0.95606, val_loss: 0.17765, val_accuracy: 0.93435 \n",
      "\n"
     ]
    },
    {
     "name": "stderr",
     "output_type": "stream",
     "text": [
      "100%|██████████| 106/106 [00:03<00:00, 32.51it/s]\n"
     ]
    },
    {
     "name": "stdout",
     "output_type": "stream",
     "text": [
      "epoch 33, loss: 0.13788, accuracy: 0.95706, val_loss: 0.19252, val_accuracy: 0.93645 \n",
      "\n"
     ]
    },
    {
     "name": "stderr",
     "output_type": "stream",
     "text": [
      "100%|██████████| 106/106 [00:03<00:00, 32.18it/s]\n"
     ]
    },
    {
     "name": "stdout",
     "output_type": "stream",
     "text": [
      "[INFO] val_loss has been improved from 0.17612 to 0.17053. Save model.\n",
      "epoch 34, loss: 0.13788, accuracy: 0.95741, val_loss: 0.17053, val_accuracy: 0.94145 \n",
      "\n"
     ]
    },
    {
     "name": "stderr",
     "output_type": "stream",
     "text": [
      "100%|██████████| 106/106 [00:03<00:00, 32.33it/s]\n"
     ]
    },
    {
     "name": "stdout",
     "output_type": "stream",
     "text": [
      "epoch 35, loss: 0.13784, accuracy: 0.95810, val_loss: 0.20255, val_accuracy: 0.92516 \n",
      "\n"
     ]
    },
    {
     "name": "stderr",
     "output_type": "stream",
     "text": [
      "100%|██████████| 106/106 [00:03<00:00, 32.21it/s]\n"
     ]
    },
    {
     "name": "stdout",
     "output_type": "stream",
     "text": [
      "[INFO] val_loss has been improved from 0.17053 to 0.16724. Save model.\n",
      "epoch 36, loss: 0.13211, accuracy: 0.96025, val_loss: 0.16724, val_accuracy: 0.93919 \n",
      "\n"
     ]
    },
    {
     "name": "stderr",
     "output_type": "stream",
     "text": [
      "100%|██████████| 106/106 [00:03<00:00, 31.75it/s]\n"
     ]
    },
    {
     "name": "stdout",
     "output_type": "stream",
     "text": [
      "[INFO] val_loss has been improved from 0.16724 to 0.15997. Save model.\n",
      "epoch 37, loss: 0.13163, accuracy: 0.95945, val_loss: 0.15997, val_accuracy: 0.94468 \n",
      "\n"
     ]
    },
    {
     "name": "stderr",
     "output_type": "stream",
     "text": [
      "100%|██████████| 106/106 [00:03<00:00, 33.18it/s]\n"
     ]
    },
    {
     "name": "stdout",
     "output_type": "stream",
     "text": [
      "epoch 38, loss: 0.12844, accuracy: 0.96103, val_loss: 0.17852, val_accuracy: 0.93774 \n",
      "\n"
     ]
    },
    {
     "name": "stderr",
     "output_type": "stream",
     "text": [
      "100%|██████████| 106/106 [00:03<00:00, 31.15it/s]\n"
     ]
    },
    {
     "name": "stdout",
     "output_type": "stream",
     "text": [
      "epoch 39, loss: 0.12863, accuracy: 0.96108, val_loss: 0.21509, val_accuracy: 0.92774 \n",
      "\n"
     ]
    },
    {
     "name": "stderr",
     "output_type": "stream",
     "text": [
      "100%|██████████| 106/106 [00:03<00:00, 32.33it/s]\n"
     ]
    },
    {
     "name": "stdout",
     "output_type": "stream",
     "text": [
      "epoch 40, loss: 0.12442, accuracy: 0.96323, val_loss: 0.16472, val_accuracy: 0.94177 \n",
      "\n"
     ]
    },
    {
     "name": "stderr",
     "output_type": "stream",
     "text": [
      "100%|██████████| 106/106 [00:03<00:00, 31.61it/s]\n"
     ]
    },
    {
     "name": "stdout",
     "output_type": "stream",
     "text": [
      "epoch 41, loss: 0.12569, accuracy: 0.96252, val_loss: 0.16675, val_accuracy: 0.93774 \n",
      "\n"
     ]
    },
    {
     "name": "stderr",
     "output_type": "stream",
     "text": [
      "100%|██████████| 106/106 [00:03<00:00, 30.82it/s]\n"
     ]
    },
    {
     "name": "stdout",
     "output_type": "stream",
     "text": [
      "epoch 42, loss: 0.12784, accuracy: 0.96130, val_loss: 0.17013, val_accuracy: 0.93710 \n",
      "\n"
     ]
    },
    {
     "name": "stderr",
     "output_type": "stream",
     "text": [
      "100%|██████████| 106/106 [00:03<00:00, 29.29it/s]\n"
     ]
    },
    {
     "name": "stdout",
     "output_type": "stream",
     "text": [
      "epoch 43, loss: 0.12305, accuracy: 0.96405, val_loss: 0.18921, val_accuracy: 0.93177 \n",
      "\n"
     ]
    },
    {
     "name": "stderr",
     "output_type": "stream",
     "text": [
      "100%|██████████| 106/106 [00:03<00:00, 31.82it/s]\n"
     ]
    },
    {
     "name": "stdout",
     "output_type": "stream",
     "text": [
      "epoch 44, loss: 0.12091, accuracy: 0.96441, val_loss: 0.21692, val_accuracy: 0.91694 \n",
      "\n"
     ]
    },
    {
     "name": "stderr",
     "output_type": "stream",
     "text": [
      "100%|██████████| 106/106 [00:03<00:00, 30.96it/s]\n"
     ]
    },
    {
     "name": "stdout",
     "output_type": "stream",
     "text": [
      "epoch 45, loss: 0.11998, accuracy: 0.96567, val_loss: 0.17303, val_accuracy: 0.93726 \n",
      "\n"
     ]
    },
    {
     "name": "stderr",
     "output_type": "stream",
     "text": [
      "100%|██████████| 106/106 [00:03<00:00, 30.73it/s]\n"
     ]
    },
    {
     "name": "stdout",
     "output_type": "stream",
     "text": [
      "epoch 46, loss: 0.12171, accuracy: 0.96364, val_loss: 0.16872, val_accuracy: 0.94032 \n",
      "\n"
     ]
    },
    {
     "name": "stderr",
     "output_type": "stream",
     "text": [
      "100%|██████████| 106/106 [00:03<00:00, 30.65it/s]\n"
     ]
    },
    {
     "name": "stdout",
     "output_type": "stream",
     "text": [
      "epoch 47, loss: 0.11853, accuracy: 0.96535, val_loss: 0.18204, val_accuracy: 0.93677 \n",
      "\n"
     ]
    },
    {
     "name": "stderr",
     "output_type": "stream",
     "text": [
      "100%|██████████| 106/106 [00:03<00:00, 30.19it/s]\n"
     ]
    },
    {
     "name": "stdout",
     "output_type": "stream",
     "text": [
      "[INFO] val_loss has been improved from 0.15997 to 0.15611. Save model.\n",
      "epoch 48, loss: 0.12106, accuracy: 0.96390, val_loss: 0.15611, val_accuracy: 0.94839 \n",
      "\n"
     ]
    },
    {
     "name": "stderr",
     "output_type": "stream",
     "text": [
      "100%|██████████| 106/106 [00:03<00:00, 30.86it/s]\n"
     ]
    },
    {
     "name": "stdout",
     "output_type": "stream",
     "text": [
      "epoch 49, loss: 0.12131, accuracy: 0.96358, val_loss: 0.16924, val_accuracy: 0.93855 \n",
      "\n"
     ]
    },
    {
     "name": "stderr",
     "output_type": "stream",
     "text": [
      "100%|██████████| 106/106 [00:03<00:00, 29.00it/s]\n"
     ]
    },
    {
     "name": "stdout",
     "output_type": "stream",
     "text": [
      "epoch 50, loss: 0.11550, accuracy: 0.96729, val_loss: 0.18791, val_accuracy: 0.93468 \n",
      "\n"
     ]
    },
    {
     "name": "stderr",
     "output_type": "stream",
     "text": [
      "100%|██████████| 106/106 [00:03<00:00, 28.02it/s]\n"
     ]
    },
    {
     "name": "stdout",
     "output_type": "stream",
     "text": [
      "epoch 51, loss: 0.11708, accuracy: 0.96644, val_loss: 0.19864, val_accuracy: 0.92758 \n",
      "\n"
     ]
    },
    {
     "name": "stderr",
     "output_type": "stream",
     "text": [
      "100%|██████████| 106/106 [00:04<00:00, 25.49it/s]\n"
     ]
    },
    {
     "name": "stdout",
     "output_type": "stream",
     "text": [
      "epoch 52, loss: 0.11538, accuracy: 0.96694, val_loss: 0.16625, val_accuracy: 0.94065 \n",
      "\n"
     ]
    },
    {
     "name": "stderr",
     "output_type": "stream",
     "text": [
      "100%|██████████| 106/106 [00:04<00:00, 21.28it/s]\n"
     ]
    },
    {
     "name": "stdout",
     "output_type": "stream",
     "text": [
      "epoch 53, loss: 0.11336, accuracy: 0.96760, val_loss: 0.16874, val_accuracy: 0.94065 \n",
      "\n"
     ]
    },
    {
     "name": "stderr",
     "output_type": "stream",
     "text": [
      "100%|██████████| 106/106 [00:07<00:00, 14.98it/s]\n"
     ]
    },
    {
     "name": "stdout",
     "output_type": "stream",
     "text": [
      "epoch 54, loss: 0.11502, accuracy: 0.96737, val_loss: 0.16689, val_accuracy: 0.94226 \n",
      "\n"
     ]
    },
    {
     "name": "stderr",
     "output_type": "stream",
     "text": [
      "100%|██████████| 106/106 [00:07<00:00, 14.22it/s]\n"
     ]
    },
    {
     "name": "stdout",
     "output_type": "stream",
     "text": [
      "epoch 55, loss: 0.11444, accuracy: 0.96749, val_loss: 0.16350, val_accuracy: 0.94290 \n",
      "\n"
     ]
    },
    {
     "name": "stderr",
     "output_type": "stream",
     "text": [
      "100%|██████████| 106/106 [00:07<00:00, 14.38it/s]\n"
     ]
    },
    {
     "name": "stdout",
     "output_type": "stream",
     "text": [
      "epoch 56, loss: 0.11178, accuracy: 0.96766, val_loss: 0.17946, val_accuracy: 0.93871 \n",
      "\n"
     ]
    },
    {
     "name": "stderr",
     "output_type": "stream",
     "text": [
      "100%|██████████| 106/106 [00:08<00:00, 13.19it/s]\n"
     ]
    },
    {
     "name": "stdout",
     "output_type": "stream",
     "text": [
      "epoch 57, loss: 0.11258, accuracy: 0.96841, val_loss: 0.19174, val_accuracy: 0.93065 \n",
      "\n"
     ]
    },
    {
     "name": "stderr",
     "output_type": "stream",
     "text": [
      "100%|██████████| 106/106 [00:08<00:00, 12.59it/s]\n"
     ]
    },
    {
     "name": "stdout",
     "output_type": "stream",
     "text": [
      "epoch 58, loss: 0.11107, accuracy: 0.96904, val_loss: 0.15880, val_accuracy: 0.94516 \n",
      "\n"
     ]
    },
    {
     "name": "stderr",
     "output_type": "stream",
     "text": [
      "100%|██████████| 106/106 [00:08<00:00, 12.34it/s]\n"
     ]
    },
    {
     "name": "stdout",
     "output_type": "stream",
     "text": [
      "epoch 59, loss: 0.11250, accuracy: 0.96895, val_loss: 0.17859, val_accuracy: 0.93306 \n",
      "\n"
     ]
    },
    {
     "name": "stderr",
     "output_type": "stream",
     "text": [
      "100%|██████████| 106/106 [00:09<00:00, 11.67it/s]\n"
     ]
    },
    {
     "name": "stdout",
     "output_type": "stream",
     "text": [
      "epoch 60, loss: 0.11137, accuracy: 0.96860, val_loss: 0.17992, val_accuracy: 0.93500 \n",
      "\n"
     ]
    },
    {
     "name": "stderr",
     "output_type": "stream",
     "text": [
      "100%|██████████| 106/106 [00:09<00:00, 10.73it/s]\n"
     ]
    },
    {
     "name": "stdout",
     "output_type": "stream",
     "text": [
      "epoch 61, loss: 0.11101, accuracy: 0.96929, val_loss: 0.17793, val_accuracy: 0.93774 \n",
      "\n"
     ]
    },
    {
     "name": "stderr",
     "output_type": "stream",
     "text": [
      "100%|██████████| 106/106 [00:09<00:00, 10.66it/s]\n"
     ]
    },
    {
     "name": "stdout",
     "output_type": "stream",
     "text": [
      "epoch 62, loss: 0.11002, accuracy: 0.96922, val_loss: 0.19539, val_accuracy: 0.92726 \n",
      "\n"
     ]
    },
    {
     "name": "stderr",
     "output_type": "stream",
     "text": [
      "100%|██████████| 106/106 [00:09<00:00, 10.77it/s]\n"
     ]
    },
    {
     "name": "stdout",
     "output_type": "stream",
     "text": [
      "epoch 63, loss: 0.10733, accuracy: 0.96972, val_loss: 0.17762, val_accuracy: 0.93500 \n",
      "\n"
     ]
    },
    {
     "name": "stderr",
     "output_type": "stream",
     "text": [
      "100%|██████████| 106/106 [00:09<00:00, 10.76it/s]\n"
     ]
    },
    {
     "name": "stdout",
     "output_type": "stream",
     "text": [
      "epoch 64, loss: 0.10909, accuracy: 0.96901, val_loss: 0.17491, val_accuracy: 0.93823 \n",
      "\n"
     ]
    },
    {
     "name": "stderr",
     "output_type": "stream",
     "text": [
      "100%|██████████| 106/106 [00:09<00:00, 11.15it/s]\n"
     ]
    },
    {
     "name": "stdout",
     "output_type": "stream",
     "text": [
      "epoch 65, loss: 0.10706, accuracy: 0.96971, val_loss: 0.17702, val_accuracy: 0.94113 \n",
      "\n"
     ]
    },
    {
     "name": "stderr",
     "output_type": "stream",
     "text": [
      "100%|██████████| 106/106 [00:09<00:00, 11.12it/s]\n"
     ]
    },
    {
     "name": "stdout",
     "output_type": "stream",
     "text": [
      "epoch 66, loss: 0.11142, accuracy: 0.96993, val_loss: 0.19873, val_accuracy: 0.93097 \n",
      "\n"
     ]
    },
    {
     "name": "stderr",
     "output_type": "stream",
     "text": [
      "100%|██████████| 106/106 [00:09<00:00, 11.56it/s]\n"
     ]
    },
    {
     "name": "stdout",
     "output_type": "stream",
     "text": [
      "epoch 67, loss: 0.10957, accuracy: 0.96987, val_loss: 0.16283, val_accuracy: 0.94355 \n",
      "\n"
     ]
    },
    {
     "name": "stderr",
     "output_type": "stream",
     "text": [
      "100%|██████████| 106/106 [00:09<00:00, 11.74it/s]\n"
     ]
    },
    {
     "name": "stdout",
     "output_type": "stream",
     "text": [
      "epoch 68, loss: 0.10597, accuracy: 0.96998, val_loss: 0.17169, val_accuracy: 0.94177 \n",
      "\n"
     ]
    },
    {
     "name": "stderr",
     "output_type": "stream",
     "text": [
      "100%|██████████| 106/106 [00:09<00:00, 11.72it/s]\n"
     ]
    },
    {
     "name": "stdout",
     "output_type": "stream",
     "text": [
      "epoch 69, loss: 0.10669, accuracy: 0.97067, val_loss: 0.17300, val_accuracy: 0.93790 \n",
      "\n"
     ]
    },
    {
     "name": "stderr",
     "output_type": "stream",
     "text": [
      "100%|██████████| 106/106 [00:08<00:00, 11.98it/s]\n"
     ]
    },
    {
     "name": "stdout",
     "output_type": "stream",
     "text": [
      "epoch 70, loss: 0.11017, accuracy: 0.96992, val_loss: 0.16091, val_accuracy: 0.94355 \n",
      "\n"
     ]
    },
    {
     "name": "stderr",
     "output_type": "stream",
     "text": [
      "100%|██████████| 106/106 [00:08<00:00, 12.12it/s]\n"
     ]
    },
    {
     "name": "stdout",
     "output_type": "stream",
     "text": [
      "epoch 71, loss: 0.10783, accuracy: 0.96962, val_loss: 0.17996, val_accuracy: 0.93710 \n",
      "\n"
     ]
    },
    {
     "name": "stderr",
     "output_type": "stream",
     "text": [
      "100%|██████████| 106/106 [00:08<00:00, 11.96it/s]\n"
     ]
    },
    {
     "name": "stdout",
     "output_type": "stream",
     "text": [
      "epoch 72, loss: 0.10617, accuracy: 0.97059, val_loss: 0.17748, val_accuracy: 0.93694 \n",
      "\n"
     ]
    },
    {
     "name": "stderr",
     "output_type": "stream",
     "text": [
      "100%|██████████| 106/106 [00:08<00:00, 12.44it/s]\n"
     ]
    },
    {
     "name": "stdout",
     "output_type": "stream",
     "text": [
      "epoch 73, loss: 0.10682, accuracy: 0.97092, val_loss: 0.15770, val_accuracy: 0.94516 \n",
      "\n"
     ]
    },
    {
     "name": "stderr",
     "output_type": "stream",
     "text": [
      "100%|██████████| 106/106 [00:08<00:00, 12.04it/s]\n"
     ]
    },
    {
     "name": "stdout",
     "output_type": "stream",
     "text": [
      "[INFO] val_loss has been improved from 0.15611 to 0.15596. Save model.\n",
      "epoch 74, loss: 0.10191, accuracy: 0.97202, val_loss: 0.15596, val_accuracy: 0.94435 \n",
      "\n"
     ]
    },
    {
     "name": "stderr",
     "output_type": "stream",
     "text": [
      "100%|██████████| 106/106 [00:09<00:00, 10.99it/s]\n"
     ]
    },
    {
     "name": "stdout",
     "output_type": "stream",
     "text": [
      "epoch 75, loss: 0.10470, accuracy: 0.97082, val_loss: 0.22038, val_accuracy: 0.92710 \n",
      "\n"
     ]
    },
    {
     "name": "stderr",
     "output_type": "stream",
     "text": [
      "100%|██████████| 106/106 [00:09<00:00, 11.27it/s]\n"
     ]
    },
    {
     "name": "stdout",
     "output_type": "stream",
     "text": [
      "[INFO] val_loss has been improved from 0.15596 to 0.15581. Save model.\n",
      "epoch 76, loss: 0.10556, accuracy: 0.97062, val_loss: 0.15581, val_accuracy: 0.94677 \n",
      "\n"
     ]
    },
    {
     "name": "stderr",
     "output_type": "stream",
     "text": [
      "100%|██████████| 106/106 [00:09<00:00, 11.02it/s]\n"
     ]
    },
    {
     "name": "stdout",
     "output_type": "stream",
     "text": [
      "epoch 77, loss: 0.10415, accuracy: 0.97158, val_loss: 0.17509, val_accuracy: 0.93952 \n",
      "\n"
     ]
    },
    {
     "name": "stderr",
     "output_type": "stream",
     "text": [
      "100%|██████████| 106/106 [00:09<00:00, 11.46it/s]\n"
     ]
    },
    {
     "name": "stdout",
     "output_type": "stream",
     "text": [
      "epoch 78, loss: 0.10355, accuracy: 0.97169, val_loss: 0.17693, val_accuracy: 0.93774 \n",
      "\n"
     ]
    },
    {
     "name": "stderr",
     "output_type": "stream",
     "text": [
      "100%|██████████| 106/106 [00:11<00:00,  8.87it/s]\n"
     ]
    },
    {
     "name": "stdout",
     "output_type": "stream",
     "text": [
      "epoch 79, loss: 0.10253, accuracy: 0.97196, val_loss: 0.16974, val_accuracy: 0.94129 \n",
      "\n"
     ]
    },
    {
     "name": "stderr",
     "output_type": "stream",
     "text": [
      "100%|██████████| 106/106 [00:12<00:00,  8.41it/s]\n"
     ]
    },
    {
     "name": "stdout",
     "output_type": "stream",
     "text": [
      "epoch 80, loss: 0.10407, accuracy: 0.97160, val_loss: 0.18278, val_accuracy: 0.93435 \n",
      "\n"
     ]
    },
    {
     "name": "stderr",
     "output_type": "stream",
     "text": [
      "100%|██████████| 106/106 [00:15<00:00,  7.00it/s]\n"
     ]
    },
    {
     "name": "stdout",
     "output_type": "stream",
     "text": [
      "epoch 81, loss: 0.10386, accuracy: 0.97075, val_loss: 0.18092, val_accuracy: 0.93694 \n",
      "\n"
     ]
    },
    {
     "name": "stderr",
     "output_type": "stream",
     "text": [
      "100%|██████████| 106/106 [00:17<00:00,  6.17it/s]\n"
     ]
    },
    {
     "name": "stdout",
     "output_type": "stream",
     "text": [
      "epoch 82, loss: 0.10407, accuracy: 0.97105, val_loss: 0.17051, val_accuracy: 0.93855 \n",
      "\n"
     ]
    },
    {
     "name": "stderr",
     "output_type": "stream",
     "text": [
      "100%|██████████| 106/106 [00:14<00:00,  7.19it/s]\n"
     ]
    },
    {
     "name": "stdout",
     "output_type": "stream",
     "text": [
      "epoch 83, loss: 0.10252, accuracy: 0.97214, val_loss: 0.17206, val_accuracy: 0.93952 \n",
      "\n"
     ]
    },
    {
     "name": "stderr",
     "output_type": "stream",
     "text": [
      "100%|██████████| 106/106 [00:14<00:00,  7.54it/s]\n"
     ]
    },
    {
     "name": "stdout",
     "output_type": "stream",
     "text": [
      "epoch 84, loss: 0.10244, accuracy: 0.97194, val_loss: 0.18470, val_accuracy: 0.93629 \n",
      "\n"
     ]
    },
    {
     "name": "stderr",
     "output_type": "stream",
     "text": [
      "100%|██████████| 106/106 [00:20<00:00,  5.16it/s]\n"
     ]
    },
    {
     "name": "stdout",
     "output_type": "stream",
     "text": [
      "epoch 85, loss: 0.10235, accuracy: 0.97179, val_loss: 0.17052, val_accuracy: 0.94177 \n",
      "\n"
     ]
    },
    {
     "name": "stderr",
     "output_type": "stream",
     "text": [
      "100%|██████████| 106/106 [00:14<00:00,  7.13it/s]\n"
     ]
    },
    {
     "name": "stdout",
     "output_type": "stream",
     "text": [
      "epoch 86, loss: 0.10083, accuracy: 0.97297, val_loss: 0.18556, val_accuracy: 0.93194 \n",
      "\n"
     ]
    },
    {
     "name": "stderr",
     "output_type": "stream",
     "text": [
      "100%|██████████| 106/106 [00:14<00:00,  7.55it/s]\n"
     ]
    },
    {
     "name": "stdout",
     "output_type": "stream",
     "text": [
      "epoch 87, loss: 0.10090, accuracy: 0.97262, val_loss: 0.18111, val_accuracy: 0.93694 \n",
      "\n"
     ]
    },
    {
     "name": "stderr",
     "output_type": "stream",
     "text": [
      "100%|██████████| 106/106 [00:14<00:00,  7.44it/s]\n"
     ]
    },
    {
     "name": "stdout",
     "output_type": "stream",
     "text": [
      "epoch 88, loss: 0.10193, accuracy: 0.97192, val_loss: 0.18462, val_accuracy: 0.93419 \n",
      "\n"
     ]
    },
    {
     "name": "stderr",
     "output_type": "stream",
     "text": [
      "100%|██████████| 106/106 [00:14<00:00,  7.21it/s]\n"
     ]
    },
    {
     "name": "stdout",
     "output_type": "stream",
     "text": [
      "epoch 89, loss: 0.10240, accuracy: 0.97253, val_loss: 0.17587, val_accuracy: 0.93629 \n",
      "\n"
     ]
    },
    {
     "name": "stderr",
     "output_type": "stream",
     "text": [
      "100%|██████████| 106/106 [00:14<00:00,  7.30it/s]\n"
     ]
    },
    {
     "name": "stdout",
     "output_type": "stream",
     "text": [
      "epoch 90, loss: 0.10234, accuracy: 0.97219, val_loss: 0.16056, val_accuracy: 0.94242 \n",
      "\n"
     ]
    },
    {
     "name": "stderr",
     "output_type": "stream",
     "text": [
      "100%|██████████| 106/106 [00:14<00:00,  7.22it/s]\n"
     ]
    },
    {
     "name": "stdout",
     "output_type": "stream",
     "text": [
      "epoch 91, loss: 0.10059, accuracy: 0.97300, val_loss: 0.18060, val_accuracy: 0.94371 \n",
      "\n"
     ]
    },
    {
     "name": "stderr",
     "output_type": "stream",
     "text": [
      "100%|██████████| 106/106 [00:14<00:00,  7.33it/s]\n"
     ]
    },
    {
     "name": "stdout",
     "output_type": "stream",
     "text": [
      "epoch 92, loss: 0.09932, accuracy: 0.97389, val_loss: 0.17729, val_accuracy: 0.93806 \n",
      "\n"
     ]
    },
    {
     "name": "stderr",
     "output_type": "stream",
     "text": [
      "100%|██████████| 106/106 [00:13<00:00,  7.61it/s]\n"
     ]
    },
    {
     "name": "stdout",
     "output_type": "stream",
     "text": [
      "epoch 93, loss: 0.09843, accuracy: 0.97366, val_loss: 0.18568, val_accuracy: 0.93565 \n",
      "\n"
     ]
    },
    {
     "name": "stderr",
     "output_type": "stream",
     "text": [
      "100%|██████████| 106/106 [00:13<00:00,  7.58it/s]\n"
     ]
    },
    {
     "name": "stdout",
     "output_type": "stream",
     "text": [
      "epoch 94, loss: 0.09852, accuracy: 0.97321, val_loss: 0.16674, val_accuracy: 0.94468 \n",
      "\n"
     ]
    },
    {
     "name": "stderr",
     "output_type": "stream",
     "text": [
      "100%|██████████| 106/106 [00:14<00:00,  7.40it/s]\n"
     ]
    },
    {
     "name": "stdout",
     "output_type": "stream",
     "text": [
      "epoch 95, loss: 0.09905, accuracy: 0.97262, val_loss: 0.16826, val_accuracy: 0.94129 \n",
      "\n"
     ]
    },
    {
     "name": "stderr",
     "output_type": "stream",
     "text": [
      "100%|██████████| 106/106 [00:14<00:00,  7.12it/s]\n"
     ]
    },
    {
     "name": "stdout",
     "output_type": "stream",
     "text": [
      "epoch 96, loss: 0.09880, accuracy: 0.97390, val_loss: 0.17525, val_accuracy: 0.93984 \n",
      "\n"
     ]
    },
    {
     "name": "stderr",
     "output_type": "stream",
     "text": [
      "100%|██████████| 106/106 [00:13<00:00,  7.66it/s]\n"
     ]
    },
    {
     "name": "stdout",
     "output_type": "stream",
     "text": [
      "epoch 97, loss: 0.10052, accuracy: 0.97226, val_loss: 0.16652, val_accuracy: 0.94129 \n",
      "\n"
     ]
    },
    {
     "name": "stderr",
     "output_type": "stream",
     "text": [
      "100%|██████████| 106/106 [00:14<00:00,  7.49it/s]\n"
     ]
    },
    {
     "name": "stdout",
     "output_type": "stream",
     "text": [
      "epoch 98, loss: 0.10027, accuracy: 0.97264, val_loss: 0.16467, val_accuracy: 0.94177 \n",
      "\n"
     ]
    },
    {
     "name": "stderr",
     "output_type": "stream",
     "text": [
      "100%|██████████| 106/106 [00:13<00:00,  8.11it/s]\n"
     ]
    },
    {
     "name": "stdout",
     "output_type": "stream",
     "text": [
      "epoch 99, loss: 0.09777, accuracy: 0.97356, val_loss: 0.17618, val_accuracy: 0.93371 \n",
      "\n"
     ]
    },
    {
     "name": "stderr",
     "output_type": "stream",
     "text": [
      "100%|██████████| 106/106 [00:12<00:00,  8.63it/s]\n"
     ]
    },
    {
     "name": "stdout",
     "output_type": "stream",
     "text": [
      "epoch 100, loss: 0.09851, accuracy: 0.97301, val_loss: 0.17750, val_accuracy: 0.93790 \n",
      "\n"
     ]
    },
    {
     "name": "stderr",
     "output_type": "stream",
     "text": [
      "100%|██████████| 106/106 [00:11<00:00,  8.94it/s]\n"
     ]
    },
    {
     "name": "stdout",
     "output_type": "stream",
     "text": [
      "epoch 101, loss: 0.09970, accuracy: 0.97320, val_loss: 0.18079, val_accuracy: 0.93823 \n",
      "\n"
     ]
    },
    {
     "name": "stderr",
     "output_type": "stream",
     "text": [
      "100%|██████████| 106/106 [00:11<00:00,  8.97it/s]\n"
     ]
    },
    {
     "name": "stdout",
     "output_type": "stream",
     "text": [
      "epoch 102, loss: 0.09438, accuracy: 0.97476, val_loss: 0.18418, val_accuracy: 0.93742 \n",
      "\n"
     ]
    },
    {
     "name": "stderr",
     "output_type": "stream",
     "text": [
      "100%|██████████| 106/106 [00:12<00:00,  8.27it/s]\n"
     ]
    },
    {
     "name": "stdout",
     "output_type": "stream",
     "text": [
      "epoch 103, loss: 0.09764, accuracy: 0.97339, val_loss: 0.16495, val_accuracy: 0.94403 \n",
      "\n"
     ]
    },
    {
     "name": "stderr",
     "output_type": "stream",
     "text": [
      "100%|██████████| 106/106 [00:11<00:00,  9.28it/s]\n"
     ]
    },
    {
     "name": "stdout",
     "output_type": "stream",
     "text": [
      "epoch 104, loss: 0.09951, accuracy: 0.97381, val_loss: 0.17013, val_accuracy: 0.94000 \n",
      "\n"
     ]
    },
    {
     "name": "stderr",
     "output_type": "stream",
     "text": [
      "100%|██████████| 106/106 [00:11<00:00,  9.05it/s]\n"
     ]
    },
    {
     "name": "stdout",
     "output_type": "stream",
     "text": [
      "epoch 105, loss: 0.09911, accuracy: 0.97296, val_loss: 0.18072, val_accuracy: 0.93613 \n",
      "\n"
     ]
    },
    {
     "name": "stderr",
     "output_type": "stream",
     "text": [
      "100%|██████████| 106/106 [00:11<00:00,  9.34it/s]\n"
     ]
    },
    {
     "name": "stdout",
     "output_type": "stream",
     "text": [
      "epoch 106, loss: 0.09892, accuracy: 0.97346, val_loss: 0.16643, val_accuracy: 0.94242 \n",
      "\n"
     ]
    },
    {
     "name": "stderr",
     "output_type": "stream",
     "text": [
      "100%|██████████| 106/106 [00:11<00:00,  9.52it/s]\n"
     ]
    },
    {
     "name": "stdout",
     "output_type": "stream",
     "text": [
      "epoch 107, loss: 0.09961, accuracy: 0.97270, val_loss: 0.16295, val_accuracy: 0.94323 \n",
      "\n"
     ]
    },
    {
     "name": "stderr",
     "output_type": "stream",
     "text": [
      "100%|██████████| 106/106 [00:11<00:00,  9.35it/s]\n"
     ]
    },
    {
     "name": "stdout",
     "output_type": "stream",
     "text": [
      "epoch 108, loss: 0.09648, accuracy: 0.97341, val_loss: 0.16882, val_accuracy: 0.94177 \n",
      "\n"
     ]
    },
    {
     "name": "stderr",
     "output_type": "stream",
     "text": [
      "100%|██████████| 106/106 [00:11<00:00,  9.44it/s]\n"
     ]
    },
    {
     "name": "stdout",
     "output_type": "stream",
     "text": [
      "epoch 109, loss: 0.09804, accuracy: 0.97325, val_loss: 0.16769, val_accuracy: 0.94048 \n",
      "\n"
     ]
    },
    {
     "name": "stderr",
     "output_type": "stream",
     "text": [
      "100%|██████████| 106/106 [00:10<00:00,  9.84it/s]\n"
     ]
    },
    {
     "name": "stdout",
     "output_type": "stream",
     "text": [
      "epoch 110, loss: 0.09787, accuracy: 0.97306, val_loss: 0.17502, val_accuracy: 0.94161 \n",
      "\n"
     ]
    },
    {
     "name": "stderr",
     "output_type": "stream",
     "text": [
      "100%|██████████| 106/106 [00:10<00:00,  9.83it/s]\n"
     ]
    },
    {
     "name": "stdout",
     "output_type": "stream",
     "text": [
      "epoch 111, loss: 0.09584, accuracy: 0.97391, val_loss: 0.17050, val_accuracy: 0.93935 \n",
      "\n"
     ]
    },
    {
     "name": "stderr",
     "output_type": "stream",
     "text": [
      "100%|██████████| 106/106 [00:11<00:00,  9.50it/s]\n"
     ]
    },
    {
     "name": "stdout",
     "output_type": "stream",
     "text": [
      "epoch 112, loss: 0.09709, accuracy: 0.97349, val_loss: 0.17441, val_accuracy: 0.94161 \n",
      "\n"
     ]
    },
    {
     "name": "stderr",
     "output_type": "stream",
     "text": [
      "100%|██████████| 106/106 [00:09<00:00, 10.75it/s]\n"
     ]
    },
    {
     "name": "stdout",
     "output_type": "stream",
     "text": [
      "epoch 113, loss: 0.09576, accuracy: 0.97421, val_loss: 0.15839, val_accuracy: 0.94484 \n",
      "\n"
     ]
    },
    {
     "name": "stderr",
     "output_type": "stream",
     "text": [
      "100%|██████████| 106/106 [00:09<00:00, 10.91it/s]\n"
     ]
    },
    {
     "name": "stdout",
     "output_type": "stream",
     "text": [
      "epoch 114, loss: 0.09814, accuracy: 0.97324, val_loss: 0.16703, val_accuracy: 0.94355 \n",
      "\n"
     ]
    },
    {
     "name": "stderr",
     "output_type": "stream",
     "text": [
      "100%|██████████| 106/106 [00:09<00:00, 11.50it/s]\n"
     ]
    },
    {
     "name": "stdout",
     "output_type": "stream",
     "text": [
      "epoch 115, loss: 0.09663, accuracy: 0.97388, val_loss: 0.15863, val_accuracy: 0.94710 \n",
      "\n"
     ]
    },
    {
     "name": "stderr",
     "output_type": "stream",
     "text": [
      "100%|██████████| 106/106 [00:08<00:00, 12.08it/s]\n"
     ]
    },
    {
     "name": "stdout",
     "output_type": "stream",
     "text": [
      "epoch 116, loss: 0.10026, accuracy: 0.97250, val_loss: 0.19631, val_accuracy: 0.93629 \n",
      "\n"
     ]
    },
    {
     "name": "stderr",
     "output_type": "stream",
     "text": [
      "100%|██████████| 106/106 [00:08<00:00, 12.28it/s]\n"
     ]
    },
    {
     "name": "stdout",
     "output_type": "stream",
     "text": [
      "epoch 117, loss: 0.09521, accuracy: 0.97499, val_loss: 0.18926, val_accuracy: 0.93581 \n",
      "\n"
     ]
    },
    {
     "name": "stderr",
     "output_type": "stream",
     "text": [
      "100%|██████████| 106/106 [00:08<00:00, 12.89it/s]\n"
     ]
    },
    {
     "name": "stdout",
     "output_type": "stream",
     "text": [
      "[INFO] val_loss has been improved from 0.15581 to 0.15308. Save model.\n",
      "epoch 118, loss: 0.09654, accuracy: 0.97399, val_loss: 0.15308, val_accuracy: 0.94952 \n",
      "\n"
     ]
    },
    {
     "name": "stderr",
     "output_type": "stream",
     "text": [
      "100%|██████████| 106/106 [00:08<00:00, 13.12it/s]\n"
     ]
    },
    {
     "name": "stdout",
     "output_type": "stream",
     "text": [
      "epoch 119, loss: 0.09728, accuracy: 0.97360, val_loss: 0.18325, val_accuracy: 0.94210 \n",
      "\n"
     ]
    },
    {
     "name": "stderr",
     "output_type": "stream",
     "text": [
      "100%|██████████| 106/106 [00:07<00:00, 13.31it/s]\n"
     ]
    },
    {
     "name": "stdout",
     "output_type": "stream",
     "text": [
      "epoch 120, loss: 0.09540, accuracy: 0.97483, val_loss: 0.17579, val_accuracy: 0.94258 \n",
      "\n"
     ]
    },
    {
     "name": "stderr",
     "output_type": "stream",
     "text": [
      "100%|██████████| 106/106 [00:07<00:00, 13.94it/s]\n"
     ]
    },
    {
     "name": "stdout",
     "output_type": "stream",
     "text": [
      "epoch 121, loss: 0.09405, accuracy: 0.97483, val_loss: 0.16127, val_accuracy: 0.94290 \n",
      "\n"
     ]
    },
    {
     "name": "stderr",
     "output_type": "stream",
     "text": [
      "100%|██████████| 106/106 [00:07<00:00, 14.66it/s]\n"
     ]
    },
    {
     "name": "stdout",
     "output_type": "stream",
     "text": [
      "epoch 122, loss: 0.09363, accuracy: 0.97492, val_loss: 0.16993, val_accuracy: 0.94306 \n",
      "\n"
     ]
    },
    {
     "name": "stderr",
     "output_type": "stream",
     "text": [
      "100%|██████████| 106/106 [00:07<00:00, 14.28it/s]\n"
     ]
    },
    {
     "name": "stdout",
     "output_type": "stream",
     "text": [
      "epoch 123, loss: 0.09552, accuracy: 0.97437, val_loss: 0.18439, val_accuracy: 0.93903 \n",
      "\n"
     ]
    },
    {
     "name": "stderr",
     "output_type": "stream",
     "text": [
      "100%|██████████| 106/106 [00:06<00:00, 15.71it/s]\n"
     ]
    },
    {
     "name": "stdout",
     "output_type": "stream",
     "text": [
      "epoch 124, loss: 0.09566, accuracy: 0.97383, val_loss: 0.16811, val_accuracy: 0.94403 \n",
      "\n"
     ]
    },
    {
     "name": "stderr",
     "output_type": "stream",
     "text": [
      "100%|██████████| 106/106 [00:06<00:00, 16.60it/s]\n"
     ]
    },
    {
     "name": "stdout",
     "output_type": "stream",
     "text": [
      "epoch 125, loss: 0.09637, accuracy: 0.97433, val_loss: 0.18013, val_accuracy: 0.93855 \n",
      "\n"
     ]
    },
    {
     "name": "stderr",
     "output_type": "stream",
     "text": [
      "100%|██████████| 106/106 [00:06<00:00, 17.40it/s]\n"
     ]
    },
    {
     "name": "stdout",
     "output_type": "stream",
     "text": [
      "epoch 126, loss: 0.09643, accuracy: 0.97357, val_loss: 0.16620, val_accuracy: 0.94371 \n",
      "\n"
     ]
    },
    {
     "name": "stderr",
     "output_type": "stream",
     "text": [
      "100%|██████████| 106/106 [00:05<00:00, 18.54it/s]\n"
     ]
    },
    {
     "name": "stdout",
     "output_type": "stream",
     "text": [
      "epoch 127, loss: 0.09657, accuracy: 0.97312, val_loss: 0.17498, val_accuracy: 0.93516 \n",
      "\n"
     ]
    },
    {
     "name": "stderr",
     "output_type": "stream",
     "text": [
      "100%|██████████| 106/106 [00:05<00:00, 18.78it/s]\n"
     ]
    },
    {
     "name": "stdout",
     "output_type": "stream",
     "text": [
      "epoch 128, loss: 0.09789, accuracy: 0.97360, val_loss: 0.17598, val_accuracy: 0.94613 \n",
      "\n"
     ]
    },
    {
     "name": "stderr",
     "output_type": "stream",
     "text": [
      "100%|██████████| 106/106 [00:05<00:00, 18.97it/s]\n"
     ]
    },
    {
     "name": "stdout",
     "output_type": "stream",
     "text": [
      "epoch 129, loss: 0.09587, accuracy: 0.97497, val_loss: 0.18364, val_accuracy: 0.94081 \n",
      "\n"
     ]
    },
    {
     "name": "stderr",
     "output_type": "stream",
     "text": [
      "100%|██████████| 106/106 [00:05<00:00, 19.16it/s]\n"
     ]
    },
    {
     "name": "stdout",
     "output_type": "stream",
     "text": [
      "epoch 130, loss: 0.09445, accuracy: 0.97385, val_loss: 0.18762, val_accuracy: 0.94210 \n",
      "\n"
     ]
    },
    {
     "name": "stderr",
     "output_type": "stream",
     "text": [
      "100%|██████████| 106/106 [00:05<00:00, 19.67it/s]\n"
     ]
    },
    {
     "name": "stdout",
     "output_type": "stream",
     "text": [
      "epoch 131, loss: 0.09418, accuracy: 0.97431, val_loss: 0.17527, val_accuracy: 0.94113 \n",
      "\n"
     ]
    },
    {
     "name": "stderr",
     "output_type": "stream",
     "text": [
      "100%|██████████| 106/106 [00:05<00:00, 19.72it/s]\n"
     ]
    },
    {
     "name": "stdout",
     "output_type": "stream",
     "text": [
      "epoch 132, loss: 0.09584, accuracy: 0.97442, val_loss: 0.18885, val_accuracy: 0.93855 \n",
      "\n"
     ]
    },
    {
     "name": "stderr",
     "output_type": "stream",
     "text": [
      "100%|██████████| 106/106 [00:05<00:00, 19.22it/s]\n"
     ]
    },
    {
     "name": "stdout",
     "output_type": "stream",
     "text": [
      "epoch 133, loss: 0.09558, accuracy: 0.97354, val_loss: 0.16534, val_accuracy: 0.94435 \n",
      "\n"
     ]
    },
    {
     "name": "stderr",
     "output_type": "stream",
     "text": [
      "100%|██████████| 106/106 [00:05<00:00, 20.19it/s]\n"
     ]
    },
    {
     "name": "stdout",
     "output_type": "stream",
     "text": [
      "epoch 134, loss: 0.09473, accuracy: 0.97433, val_loss: 0.16982, val_accuracy: 0.94129 \n",
      "\n"
     ]
    },
    {
     "name": "stderr",
     "output_type": "stream",
     "text": [
      "100%|██████████| 106/106 [00:05<00:00, 19.27it/s]\n"
     ]
    },
    {
     "name": "stdout",
     "output_type": "stream",
     "text": [
      "epoch 135, loss: 0.09737, accuracy: 0.97433, val_loss: 0.18543, val_accuracy: 0.93516 \n",
      "\n"
     ]
    },
    {
     "name": "stderr",
     "output_type": "stream",
     "text": [
      "100%|██████████| 106/106 [00:05<00:00, 19.61it/s]\n"
     ]
    },
    {
     "name": "stdout",
     "output_type": "stream",
     "text": [
      "epoch 136, loss: 0.09335, accuracy: 0.97475, val_loss: 0.19028, val_accuracy: 0.93984 \n",
      "\n"
     ]
    },
    {
     "name": "stderr",
     "output_type": "stream",
     "text": [
      "100%|██████████| 106/106 [00:05<00:00, 19.86it/s]\n"
     ]
    },
    {
     "name": "stdout",
     "output_type": "stream",
     "text": [
      "epoch 137, loss: 0.09667, accuracy: 0.97381, val_loss: 0.18297, val_accuracy: 0.93919 \n",
      "\n"
     ]
    },
    {
     "name": "stderr",
     "output_type": "stream",
     "text": [
      "100%|██████████| 106/106 [00:05<00:00, 19.64it/s]\n"
     ]
    },
    {
     "name": "stdout",
     "output_type": "stream",
     "text": [
      "epoch 138, loss: 0.09314, accuracy: 0.97473, val_loss: 0.17449, val_accuracy: 0.94452 \n",
      "\n"
     ]
    },
    {
     "name": "stderr",
     "output_type": "stream",
     "text": [
      "100%|██████████| 106/106 [00:05<00:00, 19.31it/s]\n"
     ]
    },
    {
     "name": "stdout",
     "output_type": "stream",
     "text": [
      "epoch 139, loss: 0.09492, accuracy: 0.97467, val_loss: 0.17187, val_accuracy: 0.94000 \n",
      "\n"
     ]
    },
    {
     "name": "stderr",
     "output_type": "stream",
     "text": [
      "100%|██████████| 106/106 [00:05<00:00, 19.63it/s]\n"
     ]
    },
    {
     "name": "stdout",
     "output_type": "stream",
     "text": [
      "epoch 140, loss: 0.09376, accuracy: 0.97437, val_loss: 0.16265, val_accuracy: 0.94500 \n",
      "\n"
     ]
    },
    {
     "name": "stderr",
     "output_type": "stream",
     "text": [
      "100%|██████████| 106/106 [00:05<00:00, 19.57it/s]\n"
     ]
    },
    {
     "name": "stdout",
     "output_type": "stream",
     "text": [
      "epoch 141, loss: 0.09328, accuracy: 0.97429, val_loss: 0.16260, val_accuracy: 0.94371 \n",
      "\n"
     ]
    },
    {
     "name": "stderr",
     "output_type": "stream",
     "text": [
      "100%|██████████| 106/106 [00:05<00:00, 19.60it/s]\n"
     ]
    },
    {
     "name": "stdout",
     "output_type": "stream",
     "text": [
      "epoch 142, loss: 0.09419, accuracy: 0.97494, val_loss: 0.17416, val_accuracy: 0.93516 \n",
      "\n"
     ]
    },
    {
     "name": "stderr",
     "output_type": "stream",
     "text": [
      "100%|██████████| 106/106 [00:05<00:00, 19.97it/s]\n"
     ]
    },
    {
     "name": "stdout",
     "output_type": "stream",
     "text": [
      "epoch 143, loss: 0.09332, accuracy: 0.97484, val_loss: 0.17047, val_accuracy: 0.93952 \n",
      "\n"
     ]
    },
    {
     "name": "stderr",
     "output_type": "stream",
     "text": [
      "100%|██████████| 106/106 [00:05<00:00, 19.26it/s]\n"
     ]
    },
    {
     "name": "stdout",
     "output_type": "stream",
     "text": [
      "epoch 144, loss: 0.09491, accuracy: 0.97459, val_loss: 0.16481, val_accuracy: 0.94242 \n",
      "\n"
     ]
    },
    {
     "name": "stderr",
     "output_type": "stream",
     "text": [
      "100%|██████████| 106/106 [00:05<00:00, 19.59it/s]\n"
     ]
    },
    {
     "name": "stdout",
     "output_type": "stream",
     "text": [
      "epoch 145, loss: 0.09554, accuracy: 0.97423, val_loss: 0.18819, val_accuracy: 0.93323 \n",
      "\n"
     ]
    },
    {
     "name": "stderr",
     "output_type": "stream",
     "text": [
      "100%|██████████| 106/106 [00:05<00:00, 20.06it/s]\n"
     ]
    },
    {
     "name": "stdout",
     "output_type": "stream",
     "text": [
      "epoch 146, loss: 0.09404, accuracy: 0.97530, val_loss: 0.17410, val_accuracy: 0.94274 \n",
      "\n"
     ]
    },
    {
     "name": "stderr",
     "output_type": "stream",
     "text": [
      "100%|██████████| 106/106 [00:05<00:00, 18.80it/s]\n"
     ]
    },
    {
     "name": "stdout",
     "output_type": "stream",
     "text": [
      "epoch 147, loss: 0.09690, accuracy: 0.97368, val_loss: 0.16451, val_accuracy: 0.94323 \n",
      "\n"
     ]
    },
    {
     "name": "stderr",
     "output_type": "stream",
     "text": [
      "100%|██████████| 106/106 [00:05<00:00, 19.92it/s]\n"
     ]
    },
    {
     "name": "stdout",
     "output_type": "stream",
     "text": [
      "epoch 148, loss: 0.09287, accuracy: 0.97513, val_loss: 0.17908, val_accuracy: 0.94258 \n",
      "\n"
     ]
    },
    {
     "name": "stderr",
     "output_type": "stream",
     "text": [
      "100%|██████████| 106/106 [00:05<00:00, 19.60it/s]\n"
     ]
    },
    {
     "name": "stdout",
     "output_type": "stream",
     "text": [
      "epoch 149, loss: 0.09256, accuracy: 0.97514, val_loss: 0.18363, val_accuracy: 0.93855 \n",
      "\n"
     ]
    },
    {
     "name": "stderr",
     "output_type": "stream",
     "text": [
      "100%|██████████| 106/106 [00:05<00:00, 19.70it/s]\n"
     ]
    },
    {
     "name": "stdout",
     "output_type": "stream",
     "text": [
      "epoch 150, loss: 0.09754, accuracy: 0.97269, val_loss: 0.17183, val_accuracy: 0.93774 \n",
      "\n"
     ]
    }
   ],
   "source": [
    "criterion = nn.BCELoss()\n",
    "optimizer = optim.Adam(resnet.parameters(), lr = 1e-3, weight_decay=1e-2)\n",
    "scheduler = optim.lr_scheduler.StepLR(optimizer, step_size=10, gamma=0.99)\n",
    "\n",
    "history = {'train_loss' : [],\n",
    "           'val_loss': [],\n",
    "           'train_accuracy': [],\n",
    "           'val_accuracy': []}\n",
    "\n",
    "device = 'cpu'\n",
    "EPOCHS = 150\n",
    "max_loss = np.inf\n",
    "\n",
    "for epoch in range(EPOCHS):\n",
    "    train_loss, train_acc, history = model_train(resnet, train_loader, criterion, optimizer, device, history, scheduler)\n",
    "    val_loss, val_acc, history = model_evaluate(resnet, val_loader, criterion, device, history)\n",
    "\n",
    "    if val_loss < max_loss:\n",
    "        print(f'[INFO] val_loss has been improved from {max_loss:.5f} to {val_loss:.5f}. Save model.')\n",
    "        max_loss = val_loss\n",
    "        torch.save(resnet.state_dict(), 'ResNet_Best.pth')\n",
    "\n",
    "    print(f'epoch {epoch+1:02d}, loss: {train_loss:.5f}, accuracy: {train_acc:.5f}, val_loss: {val_loss:.5f}, val_accuracy: {val_acc:.5f} \\n')"
   ]
  },
  {
   "cell_type": "code",
   "execution_count": 64,
   "metadata": {},
   "outputs": [
    {
     "data": {
      "image/png": "[encoded data removed]",
      "text/plain": [
       "<Figure size 640x480 with 1 Axes>"
      ]
     },
     "metadata": {},
     "output_type": "display_data"
    }
   ],
   "source": [
    "plot_acc(history)"
   ]
  },
  {
   "cell_type": "code",
   "execution_count": 65,
   "metadata": {},
   "outputs": [
    {
     "data": {
      "image/png": "[encoded data removed]",
      "text/plain": [
       "<Figure size 640x480 with 1 Axes>"
      ]
     },
     "metadata": {},
     "output_type": "display_data"
    }
   ],
   "source": [
    "plot_loss(history)"
   ]
  },
  {
   "cell_type": "code",
   "execution_count": 74,
   "metadata": {},
   "outputs": [
    {
     "data": {
      "image/png": "[encoded data removed]",
      "text/plain": [
       "<Figure size 640x480 with 2 Axes>"
      ]
     },
     "metadata": {},
     "output_type": "display_data"
    },
    {
     "name": "stdout",
     "output_type": "stream",
     "text": [
      "Accuracy: 0.8887961029923451\n",
      "Recall: 0.4084507042253521\n",
      "Precision: 0.7201986754966887\n",
      "F1: 0.5212702216896345\n"
     ]
    }
   ],
   "source": [
    "resnet.load_state_dict(torch.load('ResNet_Best.pth'))\n",
    "\n",
    "# threshold = 0.5\n",
    "preds = torch.sigmoid(resnet(torch.tensor(X_test.values, dtype=torch.float))) >= torch.FloatTensor([0.5])\n",
    "preds = np.where(preds.numpy(), 1, 0)\n",
    "\n",
    "conf_matrix(y_test, preds)"
   ]
  },
  {
   "cell_type": "code",
   "execution_count": 77,
   "metadata": {},
   "outputs": [],
   "source": [
    "# model save\n",
    "torch.save(resnet, 'ResNet')"
   ]
  }
 ],
 "metadata": {
  "kernelspec": {
   "display_name": "base",
   "language": "python",
   "name": "python3"
  },
  "language_info": {
   "codemirror_mode": {
    "name": "ipython",
    "version": 3
   },
   "file_extension": ".py",
   "mimetype": "text/x-python",
   "name": "python",
   "nbconvert_exporter": "python",
   "pygments_lexer": "ipython3",
   "version": "3.9.18"
  }
 },
 "nbformat": 4,
 "nbformat_minor": 2
}
